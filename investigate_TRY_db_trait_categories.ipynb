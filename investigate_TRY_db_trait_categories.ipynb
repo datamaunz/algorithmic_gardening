{
 "cells": [
  {
   "cell_type": "code",
   "execution_count": 1,
   "metadata": {},
   "outputs": [],
   "source": [
    "import pandas as pd"
   ]
  },
  {
   "cell_type": "code",
   "execution_count": 2,
   "metadata": {},
   "outputs": [],
   "source": [
    "with open(\"data/outputs/TRY_trait_categories.txt\") as file: data = file.readlines()"
   ]
  },
  {
   "cell_type": "code",
   "execution_count": 12,
   "metadata": {},
   "outputs": [
    {
     "name": "stdout",
     "output_type": "stream",
     "text": [
      "597, 788, 596, 602, 600, 593, 761, 3410, 1138, 1144, 1142\n"
     ]
    },
    {
     "data": {
      "text/plain": [
       "['Flowering requirement (requirement for fertility)',\n",
       " 'Plant light requirement',\n",
       " 'Seed germination requirement',\n",
       " 'Species habitat characterisation / Plant requirement: precipitation',\n",
       " 'Species habitat characterisation / Plant requirement: soil pH',\n",
       " 'Species habitat characterisation / Plant requirement: soil texture',\n",
       " 'Species habitat characterisation / Plant requirement: soil type',\n",
       " 'Species habitat characterization: substrate requirement',\n",
       " 'Species nutrient requirements',\n",
       " 'Species soil moisture requirements',\n",
       " 'Species soil pH requirement']"
      ]
     },
     "execution_count": 12,
     "metadata": {},
     "output_type": "execute_result"
    }
   ],
   "source": [
    "# get all trait ids containing the search term (needed to submit request on TRY db)\n",
    "search_term = \"requirement\"\n",
    "df = pd.DataFrame([x.split(\"\\t\") for x in data if search_term in x])\n",
    "trait_ids = df.iloc[:,0].to_list()\n",
    "\n",
    "print(\", \".join(trait_ids))\n",
    "df[1].to_list()"
   ]
  },
  {
   "cell_type": "code",
   "execution_count": 15,
   "metadata": {},
   "outputs": [
    {
     "data": {
      "text/plain": [
       "Index(['LastName', 'FirstName', 'DatasetID', 'Dataset', 'SpeciesName',\n",
       "       'AccSpeciesID', 'AccSpeciesName', 'ObservationID', 'ObsDataID',\n",
       "       'TraitID', 'TraitName', 'DataID', 'DataName', 'OriglName',\n",
       "       'OrigValueStr', 'OrigUnitStr', 'ValueKindName', 'OrigUncertaintyStr',\n",
       "       'UncertaintyName', 'Replicates', 'StdValue', 'UnitName',\n",
       "       'RelUncertaintyPercent', 'OrigObsDataID', 'ErrorRisk', 'Reference',\n",
       "       'Comment', 'Unnamed: 27'],\n",
       "      dtype='object')"
      ]
     },
     "execution_count": 15,
     "metadata": {},
     "output_type": "execute_result"
    }
   ],
   "source": [
    "df = pd.read_csv(\"data/inputs/plant_data/22652.txt\", sep=\"\\t\")\n",
    "df.columns"
   ]
  },
  {
   "cell_type": "code",
   "execution_count": 27,
   "metadata": {},
   "outputs": [
    {
     "data": {
      "text/plain": [
       "Species habitat characterisation / Plant requirement: soil texture     6555\n",
       "Species nutrient requirements                                          4769\n",
       "Species habitat characterisation / Plant requirement: precipitation    4235\n",
       "Species habitat characterisation / Plant requirement: soil pH          4221\n",
       "Seed germination requirement                                           4173\n",
       "Species soil pH requirement                                            3233\n",
       "Species habitat characterization: substrate requirement                2884\n",
       "Flowering requirement (requirement for fertility)                      2226\n",
       "Plant light requirement                                                1196\n",
       "Species soil moisture requirements                                      966\n",
       "Species habitat characterisation / Plant requirement: soil type          13\n",
       "Name: TraitName, dtype: int64"
      ]
     },
     "execution_count": 27,
     "metadata": {},
     "output_type": "execute_result"
    }
   ],
   "source": [
    "\n",
    "df[\"OrigValueStr\"].value_counts()\n",
    "\n",
    "df[\"SpeciesName\"].value_counts()\n",
    "df[\"TraitName\"].value_counts()"
   ]
  },
  {
   "cell_type": "code",
   "execution_count": 28,
   "metadata": {},
   "outputs": [],
   "source": [
    "plant_traits = df[[\"SpeciesName\", \"TraitName\", \"OrigValueStr\"]]"
   ]
  },
  {
   "cell_type": "code",
   "execution_count": 30,
   "metadata": {},
   "outputs": [],
   "source": [
    "plant_light_req = plant_traits[plant_traits[\"TraitName\"] == \"Plant light requirement\"]"
   ]
  },
  {
   "cell_type": "code",
   "execution_count": 56,
   "metadata": {},
   "outputs": [],
   "source": [
    "trait_names = plant_traits[\"TraitName\"].unique()\n",
    "\n",
    "trait_name_dfs = []\n",
    "\n",
    "\n",
    "with pd.ExcelWriter(\"data/outputs/trait_value_counts.xlsx\") as writer:\n",
    "\n",
    "    for i, trait_name in enumerate([x for x in trait_names if str(x) != \"nan\"]):\n",
    "        \n",
    "        trait_name_df = pd.DataFrame(plant_traits[plant_traits[\"TraitName\"] == trait_name][\"OrigValueStr\"].value_counts()) \n",
    "        trait_name_df = trait_name_df.rename(columns={\"OrigValueStr\":\"value_counts\"})\n",
    "        trait_name_df[\"trait_name\"] = trait_name\n",
    "        trait_name_df.to_excel(writer, str(i))\n",
    "        #trait_name_dfs.append(trait_name_df)\n"
   ]
  },
  {
   "cell_type": "code",
   "execution_count": 37,
   "metadata": {},
   "outputs": [
    {
     "ename": "ValueError",
     "evalue": "invalid literal for int() with base 10: 'plant of very shadowy sites'",
     "output_type": "error",
     "traceback": [
      "\u001b[0;31m---------------------------------------------------------------------------\u001b[0m",
      "\u001b[0;31mValueError\u001b[0m                                Traceback (most recent call last)",
      "\u001b[0;32m<ipython-input-37-3db516cc690a>\u001b[0m in \u001b[0;36m<module>\u001b[0;34m\u001b[0m\n\u001b[0;32m----> 1\u001b[0;31m \u001b[0mplant_light_req\u001b[0m\u001b[0;34m[\u001b[0m\u001b[0mplant_light_req\u001b[0m\u001b[0;34m[\u001b[0m\u001b[0;34m\"OrigValueStr\"\u001b[0m\u001b[0;34m]\u001b[0m\u001b[0;34m.\u001b[0m\u001b[0mapply\u001b[0m\u001b[0;34m(\u001b[0m\u001b[0;32mlambda\u001b[0m \u001b[0mx\u001b[0m\u001b[0;34m:\u001b[0m \u001b[0mtype\u001b[0m\u001b[0;34m(\u001b[0m\u001b[0mint\u001b[0m\u001b[0;34m(\u001b[0m\u001b[0mx\u001b[0m\u001b[0;34m)\u001b[0m\u001b[0;34m)\u001b[0m \u001b[0;34m==\u001b[0m \u001b[0mint\u001b[0m\u001b[0;34m)\u001b[0m\u001b[0;34m]\u001b[0m\u001b[0;34m\u001b[0m\u001b[0;34m\u001b[0m\u001b[0m\n\u001b[0m",
      "\u001b[0;32m~/Principia/juno/ecicollaborationjuno/venv/lib/python3.9/site-packages/pandas/core/series.py\u001b[0m in \u001b[0;36mapply\u001b[0;34m(self, func, convert_dtype, args, **kwds)\u001b[0m\n\u001b[1;32m   4136\u001b[0m             \u001b[0;32melse\u001b[0m\u001b[0;34m:\u001b[0m\u001b[0;34m\u001b[0m\u001b[0;34m\u001b[0m\u001b[0m\n\u001b[1;32m   4137\u001b[0m                 \u001b[0mvalues\u001b[0m \u001b[0;34m=\u001b[0m \u001b[0mself\u001b[0m\u001b[0;34m.\u001b[0m\u001b[0mastype\u001b[0m\u001b[0;34m(\u001b[0m\u001b[0mobject\u001b[0m\u001b[0;34m)\u001b[0m\u001b[0;34m.\u001b[0m\u001b[0m_values\u001b[0m\u001b[0;34m\u001b[0m\u001b[0;34m\u001b[0m\u001b[0m\n\u001b[0;32m-> 4138\u001b[0;31m                 \u001b[0mmapped\u001b[0m \u001b[0;34m=\u001b[0m \u001b[0mlib\u001b[0m\u001b[0;34m.\u001b[0m\u001b[0mmap_infer\u001b[0m\u001b[0;34m(\u001b[0m\u001b[0mvalues\u001b[0m\u001b[0;34m,\u001b[0m \u001b[0mf\u001b[0m\u001b[0;34m,\u001b[0m \u001b[0mconvert\u001b[0m\u001b[0;34m=\u001b[0m\u001b[0mconvert_dtype\u001b[0m\u001b[0;34m)\u001b[0m\u001b[0;34m\u001b[0m\u001b[0;34m\u001b[0m\u001b[0m\n\u001b[0m\u001b[1;32m   4139\u001b[0m \u001b[0;34m\u001b[0m\u001b[0m\n\u001b[1;32m   4140\u001b[0m         \u001b[0;32mif\u001b[0m \u001b[0mlen\u001b[0m\u001b[0;34m(\u001b[0m\u001b[0mmapped\u001b[0m\u001b[0;34m)\u001b[0m \u001b[0;32mand\u001b[0m \u001b[0misinstance\u001b[0m\u001b[0;34m(\u001b[0m\u001b[0mmapped\u001b[0m\u001b[0;34m[\u001b[0m\u001b[0;36m0\u001b[0m\u001b[0;34m]\u001b[0m\u001b[0;34m,\u001b[0m \u001b[0mSeries\u001b[0m\u001b[0;34m)\u001b[0m\u001b[0;34m:\u001b[0m\u001b[0;34m\u001b[0m\u001b[0;34m\u001b[0m\u001b[0m\n",
      "\u001b[0;32mpandas/_libs/lib.pyx\u001b[0m in \u001b[0;36mpandas._libs.lib.map_infer\u001b[0;34m()\u001b[0m\n",
      "\u001b[0;32m<ipython-input-37-3db516cc690a>\u001b[0m in \u001b[0;36m<lambda>\u001b[0;34m(x)\u001b[0m\n\u001b[0;32m----> 1\u001b[0;31m \u001b[0mplant_light_req\u001b[0m\u001b[0;34m[\u001b[0m\u001b[0mplant_light_req\u001b[0m\u001b[0;34m[\u001b[0m\u001b[0;34m\"OrigValueStr\"\u001b[0m\u001b[0;34m]\u001b[0m\u001b[0;34m.\u001b[0m\u001b[0mapply\u001b[0m\u001b[0;34m(\u001b[0m\u001b[0;32mlambda\u001b[0m \u001b[0mx\u001b[0m\u001b[0;34m:\u001b[0m \u001b[0mtype\u001b[0m\u001b[0;34m(\u001b[0m\u001b[0mint\u001b[0m\u001b[0;34m(\u001b[0m\u001b[0mx\u001b[0m\u001b[0;34m)\u001b[0m\u001b[0;34m)\u001b[0m \u001b[0;34m==\u001b[0m \u001b[0mint\u001b[0m\u001b[0;34m)\u001b[0m\u001b[0;34m]\u001b[0m\u001b[0;34m\u001b[0m\u001b[0;34m\u001b[0m\u001b[0m\n\u001b[0m",
      "\u001b[0;31mValueError\u001b[0m: invalid literal for int() with base 10: 'plant of very shadowy sites'"
     ]
    }
   ],
   "source": [
    "#plant_light_req[plant_light_req[\"OrigValueStr\"].apply(lambda x: type(int(x)) == int)]\n"
   ]
  },
  {
   "cell_type": "code",
   "execution_count": 38,
   "metadata": {},
   "outputs": [
    {
     "data": {
      "text/plain": [
       "plant of very shadowy sites    855\n",
       "plant of half-shadowy sites    289\n",
       "plant of full-light             41\n",
       "70                               4\n",
       "100                              4\n",
       "90                               2\n",
       "80                               1\n",
       "Name: OrigValueStr, dtype: int64"
      ]
     },
     "execution_count": 38,
     "metadata": {},
     "output_type": "execute_result"
    }
   ],
   "source": [
    "plant_light_req[\"OrigValueStr\"].value_counts()"
   ]
  },
  {
   "cell_type": "code",
   "execution_count": null,
   "metadata": {},
   "outputs": [],
   "source": []
  }
 ],
 "metadata": {
  "kernelspec": {
   "display_name": "Python 3.9.10 ('venv': venv)",
   "language": "python",
   "name": "python3"
  },
  "language_info": {
   "codemirror_mode": {
    "name": "ipython",
    "version": 3
   },
   "file_extension": ".py",
   "mimetype": "text/x-python",
   "name": "python",
   "nbconvert_exporter": "python",
   "pygments_lexer": "ipython3",
   "version": "3.9.10"
  },
  "orig_nbformat": 4,
  "vscode": {
   "interpreter": {
    "hash": "c5b55cb2ca5721987c6168cb0327f276a2c029f1cce9ad2d2319e52dca0f8530"
   }
  }
 },
 "nbformat": 4,
 "nbformat_minor": 2
}
