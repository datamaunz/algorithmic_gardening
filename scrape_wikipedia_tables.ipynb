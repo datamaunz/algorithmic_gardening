{
 "cells": [
  {
   "cell_type": "code",
   "execution_count": 152,
   "metadata": {},
   "outputs": [],
   "source": [
    "import requests\n",
    "import pandas as pd\n",
    "from bs4 import BeautifulSoup\n",
    "import re\n",
    "import numpy as np\n",
    "import matplotlib.pyplot as plt\n",
    "from scipy.cluster.hierarchy import dendrogram, linkage\n",
    "import plotly.figure_factory as ff"
   ]
  },
  {
   "cell_type": "code",
   "execution_count": 2,
   "metadata": {},
   "outputs": [],
   "source": [
    "url = \"https://en.wikipedia.org/wiki/List_of_companion_plants\"\n",
    "soup = BeautifulSoup(requests.get(url).content)"
   ]
  },
  {
   "cell_type": "code",
   "execution_count": 3,
   "metadata": {},
   "outputs": [],
   "source": [
    "tables = soup.find_all(\"table\")"
   ]
  },
  {
   "cell_type": "code",
   "execution_count": 197,
   "metadata": {},
   "outputs": [],
   "source": [
    "dfs = []\n",
    "for table in tables[:4]:\n",
    "\n",
    "    columns = [\"common_name\",\"scientific_name\",\"helps\",\"helped_by\",\"attracts\",\"repels_distracts\", \"avoid\", \"comments\"]\n",
    "\n",
    "    df = pd.DataFrame([[x.text for x in tr.find_all(\"td\")] for tr in table.find_all(\"tr\")]).dropna(thresh=1)\n",
    "    df.columns = columns\n",
    "    df = df.reset_index(drop=True)\n",
    "    pattern = r'\\[.*?\\]'\n",
    "    df = df.applymap(lambda x: re.sub(pattern, '', x).lower().replace(\" (\", \", \").replace(\")\", \", \"))\n",
    "    dfs.append(df)\n",
    "    "
   ]
  },
  {
   "cell_type": "code",
   "execution_count": 198,
   "metadata": {},
   "outputs": [],
   "source": [
    "df1, df2, df3, df4 = dfs"
   ]
  },
  {
   "cell_type": "code",
   "execution_count": 199,
   "metadata": {},
   "outputs": [],
   "source": [
    "frames = []\n",
    "for df in dfs:\n",
    "    for index, row in df.iterrows():\n",
    "        name = row.common_name.replace(\"corn / maize\", \"corn\")\n",
    "        helps_list = [x.strip().replace(\"corn / maize\", \"corn\").replace(\"corn/maize\", \"corn\") for x in row.helps.replace(\".\", \",\").split(\",\") if x not in [\"\",\" \"]]\n",
    "        avoid_list = [x.strip().replace(\"corn / maize\", \"corn\").replace(\"corn/maize\", \"corn\") for x in row.avoid.replace(\".\", \",\").split(\",\") if x not in [\"\",\" \"]]\n",
    "        \n",
    "        helps_list_cleaned = [x for x in helps_list if x not in avoid_list + [\"\", \" \"]]\n",
    "        avoid_list_cleaned = [x for x in avoid_list if x not in helps_list + [\"\", \" \"]]\n",
    "        \n",
    "        \n",
    "        if len(row.helps) > 0:\n",
    "            helps_df = pd.DataFrame({\n",
    "                name:[1] * len(helps_list_cleaned),\n",
    "                \"columns\":helps_list_cleaned\n",
    "            }).set_index(\"columns\").T\n",
    "        else: helps_df = pd.DataFrame()\n",
    "        \n",
    "        if len(row.avoid) > 0:\n",
    "            avoid_df = pd.DataFrame({\n",
    "                name:[-1] * len(avoid_list_cleaned),\n",
    "                \"columns\":avoid_list_cleaned\n",
    "            }).set_index(\"columns\").T\n",
    "        else: avoid_df = pd.DataFrame()\n",
    "        \n",
    "        \n",
    "        frame = pd.concat([helps_df, avoid_df], axis=1)\n",
    "        frames.append(frame)\n"
   ]
  },
  {
   "cell_type": "code",
   "execution_count": 200,
   "metadata": {},
   "outputs": [],
   "source": [
    "df = pd.concat(frames).fillna(0)\n",
    "df = df[[x for x in df.columns if x not in ['e', 'g', 'etc', 'many other plants', '\"']]]"
   ]
  },
  {
   "cell_type": "code",
   "execution_count": 201,
   "metadata": {},
   "outputs": [
    {
     "data": {
      "text/plain": [
       "columns\n",
       "beans   -1.0\n",
       "peas    -1.0\n",
       "Name: alliums, dtype: float64"
      ]
     },
     "execution_count": 201,
     "metadata": {},
     "output_type": "execute_result"
    }
   ],
   "source": [
    "for index, row in df.iloc[:1].iterrows():\n",
    "    okay = row[row != -1]\n",
    "    no_go = row[row == -1]\n",
    "no_go"
   ]
  },
  {
   "cell_type": "code",
   "execution_count": 202,
   "metadata": {},
   "outputs": [],
   "source": [
    "for index, row in df.iterrows():\n",
    "    df.loc[index, \"number_of_friends\"] = len(row[row == 1])\n",
    "    df.loc[index, \"number_of_enemies\"] = len(row[row == -1])\n",
    "    \n",
    "df = df.sort_values(\"number_of_enemies\", ascending=False)\n"
   ]
  },
  {
   "cell_type": "code",
   "execution_count": 206,
   "metadata": {},
   "outputs": [],
   "source": [
    "item_order = df.index\n",
    "df = df[[x for x in df.columns if x not in [\"number_of_enemies\", \"number_of_friends\"]]]"
   ]
  },
  {
   "cell_type": "code",
   "execution_count": 213,
   "metadata": {},
   "outputs": [],
   "source": [
    "frame = df.T.sort_values(item_order.to_list(), ascending=False).T"
   ]
  },
  {
   "cell_type": "code",
   "execution_count": 214,
   "metadata": {},
   "outputs": [
    {
     "data": {
      "text/html": [
       "<div>\n",
       "<style scoped>\n",
       "    .dataframe tbody tr th:only-of-type {\n",
       "        vertical-align: middle;\n",
       "    }\n",
       "\n",
       "    .dataframe tbody tr th {\n",
       "        vertical-align: top;\n",
       "    }\n",
       "\n",
       "    .dataframe thead th {\n",
       "        text-align: right;\n",
       "    }\n",
       "</style>\n",
       "<table border=\"1\" class=\"dataframe\">\n",
       "  <thead>\n",
       "    <tr style=\"text-align: right;\">\n",
       "      <th>columns</th>\n",
       "      <th>passion fruit</th>\n",
       "      <th>onions</th>\n",
       "      <th>lettuce</th>\n",
       "      <th>bush beans</th>\n",
       "      <th>spinach</th>\n",
       "      <th>asparagus</th>\n",
       "      <th>celery</th>\n",
       "      <th>beans</th>\n",
       "      <th>beets</th>\n",
       "      <th>wheat</th>\n",
       "      <th>...</th>\n",
       "      <th>mint</th>\n",
       "      <th>verticillium-susceptible species</th>\n",
       "      <th>melons</th>\n",
       "      <th>bush or bramble fruits</th>\n",
       "      <th>stone fruits</th>\n",
       "      <th>chrysanthemums</th>\n",
       "      <th>tomatoes</th>\n",
       "      <th>okra</th>\n",
       "      <th>brassicas</th>\n",
       "      <th>potatoes</th>\n",
       "    </tr>\n",
       "  </thead>\n",
       "  <tbody>\n",
       "    <tr>\n",
       "      <th>strawberries</th>\n",
       "      <td>1.0</td>\n",
       "      <td>1.0</td>\n",
       "      <td>1.0</td>\n",
       "      <td>1.0</td>\n",
       "      <td>1.0</td>\n",
       "      <td>0.0</td>\n",
       "      <td>0.0</td>\n",
       "      <td>0.0</td>\n",
       "      <td>0.0</td>\n",
       "      <td>0.0</td>\n",
       "      <td>...</td>\n",
       "      <td>NaN</td>\n",
       "      <td>NaN</td>\n",
       "      <td>NaN</td>\n",
       "      <td>NaN</td>\n",
       "      <td>NaN</td>\n",
       "      <td>NaN</td>\n",
       "      <td>NaN</td>\n",
       "      <td>NaN</td>\n",
       "      <td>NaN</td>\n",
       "      <td>NaN</td>\n",
       "    </tr>\n",
       "    <tr>\n",
       "      <th>tomatoes</th>\n",
       "      <td>0.0</td>\n",
       "      <td>0.0</td>\n",
       "      <td>0.0</td>\n",
       "      <td>0.0</td>\n",
       "      <td>0.0</td>\n",
       "      <td>1.0</td>\n",
       "      <td>1.0</td>\n",
       "      <td>0.0</td>\n",
       "      <td>0.0</td>\n",
       "      <td>0.0</td>\n",
       "      <td>...</td>\n",
       "      <td>0.0</td>\n",
       "      <td>0.0</td>\n",
       "      <td>0.0</td>\n",
       "      <td>0.0</td>\n",
       "      <td>0.0</td>\n",
       "      <td>0.0</td>\n",
       "      <td>0.0</td>\n",
       "      <td>0.0</td>\n",
       "      <td>NaN</td>\n",
       "      <td>NaN</td>\n",
       "    </tr>\n",
       "    <tr>\n",
       "      <th>potato</th>\n",
       "      <td>1.0</td>\n",
       "      <td>0.0</td>\n",
       "      <td>0.0</td>\n",
       "      <td>0.0</td>\n",
       "      <td>0.0</td>\n",
       "      <td>0.0</td>\n",
       "      <td>0.0</td>\n",
       "      <td>1.0</td>\n",
       "      <td>0.0</td>\n",
       "      <td>0.0</td>\n",
       "      <td>...</td>\n",
       "      <td>0.0</td>\n",
       "      <td>0.0</td>\n",
       "      <td>0.0</td>\n",
       "      <td>0.0</td>\n",
       "      <td>0.0</td>\n",
       "      <td>0.0</td>\n",
       "      <td>0.0</td>\n",
       "      <td>0.0</td>\n",
       "      <td>1.0</td>\n",
       "      <td>0.0</td>\n",
       "    </tr>\n",
       "    <tr>\n",
       "      <th>passion fruit</th>\n",
       "      <td>0.0</td>\n",
       "      <td>0.0</td>\n",
       "      <td>0.0</td>\n",
       "      <td>0.0</td>\n",
       "      <td>0.0</td>\n",
       "      <td>0.0</td>\n",
       "      <td>0.0</td>\n",
       "      <td>0.0</td>\n",
       "      <td>0.0</td>\n",
       "      <td>0.0</td>\n",
       "      <td>...</td>\n",
       "      <td>0.0</td>\n",
       "      <td>0.0</td>\n",
       "      <td>0.0</td>\n",
       "      <td>0.0</td>\n",
       "      <td>0.0</td>\n",
       "      <td>0.0</td>\n",
       "      <td>0.0</td>\n",
       "      <td>NaN</td>\n",
       "      <td>0.0</td>\n",
       "      <td>0.0</td>\n",
       "    </tr>\n",
       "    <tr>\n",
       "      <th>brassicas</th>\n",
       "      <td>0.0</td>\n",
       "      <td>1.0</td>\n",
       "      <td>0.0</td>\n",
       "      <td>0.0</td>\n",
       "      <td>0.0</td>\n",
       "      <td>0.0</td>\n",
       "      <td>0.0</td>\n",
       "      <td>0.0</td>\n",
       "      <td>1.0</td>\n",
       "      <td>1.0</td>\n",
       "      <td>...</td>\n",
       "      <td>0.0</td>\n",
       "      <td>0.0</td>\n",
       "      <td>0.0</td>\n",
       "      <td>0.0</td>\n",
       "      <td>0.0</td>\n",
       "      <td>0.0</td>\n",
       "      <td>NaN</td>\n",
       "      <td>0.0</td>\n",
       "      <td>0.0</td>\n",
       "      <td>1.0</td>\n",
       "    </tr>\n",
       "    <tr>\n",
       "      <th>...</th>\n",
       "      <td>...</td>\n",
       "      <td>...</td>\n",
       "      <td>...</td>\n",
       "      <td>...</td>\n",
       "      <td>...</td>\n",
       "      <td>...</td>\n",
       "      <td>...</td>\n",
       "      <td>...</td>\n",
       "      <td>...</td>\n",
       "      <td>...</td>\n",
       "      <td>...</td>\n",
       "      <td>...</td>\n",
       "      <td>...</td>\n",
       "      <td>...</td>\n",
       "      <td>...</td>\n",
       "      <td>...</td>\n",
       "      <td>...</td>\n",
       "      <td>...</td>\n",
       "      <td>...</td>\n",
       "      <td>...</td>\n",
       "      <td>...</td>\n",
       "    </tr>\n",
       "    <tr>\n",
       "      <th>oregano</th>\n",
       "      <td>0.0</td>\n",
       "      <td>0.0</td>\n",
       "      <td>0.0</td>\n",
       "      <td>0.0</td>\n",
       "      <td>0.0</td>\n",
       "      <td>0.0</td>\n",
       "      <td>0.0</td>\n",
       "      <td>0.0</td>\n",
       "      <td>0.0</td>\n",
       "      <td>0.0</td>\n",
       "      <td>...</td>\n",
       "      <td>0.0</td>\n",
       "      <td>0.0</td>\n",
       "      <td>0.0</td>\n",
       "      <td>0.0</td>\n",
       "      <td>0.0</td>\n",
       "      <td>0.0</td>\n",
       "      <td>1.0</td>\n",
       "      <td>0.0</td>\n",
       "      <td>0.0</td>\n",
       "      <td>0.0</td>\n",
       "    </tr>\n",
       "    <tr>\n",
       "      <th>peppermint</th>\n",
       "      <td>0.0</td>\n",
       "      <td>0.0</td>\n",
       "      <td>0.0</td>\n",
       "      <td>0.0</td>\n",
       "      <td>0.0</td>\n",
       "      <td>0.0</td>\n",
       "      <td>0.0</td>\n",
       "      <td>0.0</td>\n",
       "      <td>0.0</td>\n",
       "      <td>0.0</td>\n",
       "      <td>...</td>\n",
       "      <td>0.0</td>\n",
       "      <td>0.0</td>\n",
       "      <td>0.0</td>\n",
       "      <td>0.0</td>\n",
       "      <td>0.0</td>\n",
       "      <td>0.0</td>\n",
       "      <td>1.0</td>\n",
       "      <td>0.0</td>\n",
       "      <td>1.0</td>\n",
       "      <td>0.0</td>\n",
       "    </tr>\n",
       "    <tr>\n",
       "      <th>rosemary</th>\n",
       "      <td>0.0</td>\n",
       "      <td>0.0</td>\n",
       "      <td>0.0</td>\n",
       "      <td>0.0</td>\n",
       "      <td>0.0</td>\n",
       "      <td>0.0</td>\n",
       "      <td>0.0</td>\n",
       "      <td>1.0</td>\n",
       "      <td>0.0</td>\n",
       "      <td>0.0</td>\n",
       "      <td>...</td>\n",
       "      <td>0.0</td>\n",
       "      <td>0.0</td>\n",
       "      <td>0.0</td>\n",
       "      <td>0.0</td>\n",
       "      <td>0.0</td>\n",
       "      <td>0.0</td>\n",
       "      <td>0.0</td>\n",
       "      <td>0.0</td>\n",
       "      <td>1.0</td>\n",
       "      <td>0.0</td>\n",
       "    </tr>\n",
       "    <tr>\n",
       "      <th>kohlrabi</th>\n",
       "      <td>0.0</td>\n",
       "      <td>0.0</td>\n",
       "      <td>0.0</td>\n",
       "      <td>0.0</td>\n",
       "      <td>0.0</td>\n",
       "      <td>0.0</td>\n",
       "      <td>0.0</td>\n",
       "      <td>0.0</td>\n",
       "      <td>1.0</td>\n",
       "      <td>0.0</td>\n",
       "      <td>...</td>\n",
       "      <td>0.0</td>\n",
       "      <td>0.0</td>\n",
       "      <td>0.0</td>\n",
       "      <td>0.0</td>\n",
       "      <td>0.0</td>\n",
       "      <td>0.0</td>\n",
       "      <td>0.0</td>\n",
       "      <td>0.0</td>\n",
       "      <td>0.0</td>\n",
       "      <td>0.0</td>\n",
       "    </tr>\n",
       "    <tr>\n",
       "      <th>zinnia</th>\n",
       "      <td>0.0</td>\n",
       "      <td>0.0</td>\n",
       "      <td>0.0</td>\n",
       "      <td>0.0</td>\n",
       "      <td>0.0</td>\n",
       "      <td>0.0</td>\n",
       "      <td>0.0</td>\n",
       "      <td>1.0</td>\n",
       "      <td>0.0</td>\n",
       "      <td>0.0</td>\n",
       "      <td>...</td>\n",
       "      <td>0.0</td>\n",
       "      <td>0.0</td>\n",
       "      <td>0.0</td>\n",
       "      <td>0.0</td>\n",
       "      <td>0.0</td>\n",
       "      <td>0.0</td>\n",
       "      <td>1.0</td>\n",
       "      <td>0.0</td>\n",
       "      <td>0.0</td>\n",
       "      <td>0.0</td>\n",
       "    </tr>\n",
       "  </tbody>\n",
       "</table>\n",
       "<p>86 rows × 155 columns</p>\n",
       "</div>"
      ],
      "text/plain": [
       "columns        passion fruit  onions  lettuce  bush beans  spinach  asparagus  \\\n",
       "strawberries             1.0     1.0      1.0         1.0      1.0        0.0   \n",
       "tomatoes                 0.0     0.0      0.0         0.0      0.0        1.0   \n",
       "potato                   1.0     0.0      0.0         0.0      0.0        0.0   \n",
       "passion fruit            0.0     0.0      0.0         0.0      0.0        0.0   \n",
       "brassicas                0.0     1.0      0.0         0.0      0.0        0.0   \n",
       "...                      ...     ...      ...         ...      ...        ...   \n",
       "oregano                  0.0     0.0      0.0         0.0      0.0        0.0   \n",
       "peppermint               0.0     0.0      0.0         0.0      0.0        0.0   \n",
       "rosemary                 0.0     0.0      0.0         0.0      0.0        0.0   \n",
       "kohlrabi                 0.0     0.0      0.0         0.0      0.0        0.0   \n",
       "zinnia                   0.0     0.0      0.0         0.0      0.0        0.0   \n",
       "\n",
       "columns        celery  beans  beets  wheat  ...  mint  \\\n",
       "strawberries      0.0    0.0    0.0    0.0  ...   NaN   \n",
       "tomatoes          1.0    0.0    0.0    0.0  ...   0.0   \n",
       "potato            0.0    1.0    0.0    0.0  ...   0.0   \n",
       "passion fruit     0.0    0.0    0.0    0.0  ...   0.0   \n",
       "brassicas         0.0    0.0    1.0    1.0  ...   0.0   \n",
       "...               ...    ...    ...    ...  ...   ...   \n",
       "oregano           0.0    0.0    0.0    0.0  ...   0.0   \n",
       "peppermint        0.0    0.0    0.0    0.0  ...   0.0   \n",
       "rosemary          0.0    1.0    0.0    0.0  ...   0.0   \n",
       "kohlrabi          0.0    0.0    1.0    0.0  ...   0.0   \n",
       "zinnia            0.0    1.0    0.0    0.0  ...   0.0   \n",
       "\n",
       "columns        verticillium-susceptible species  melons  \\\n",
       "strawberries                                NaN     NaN   \n",
       "tomatoes                                    0.0     0.0   \n",
       "potato                                      0.0     0.0   \n",
       "passion fruit                               0.0     0.0   \n",
       "brassicas                                   0.0     0.0   \n",
       "...                                         ...     ...   \n",
       "oregano                                     0.0     0.0   \n",
       "peppermint                                  0.0     0.0   \n",
       "rosemary                                    0.0     0.0   \n",
       "kohlrabi                                    0.0     0.0   \n",
       "zinnia                                      0.0     0.0   \n",
       "\n",
       "columns        bush or bramble fruits  stone fruits  chrysanthemums  tomatoes  \\\n",
       "strawberries                      NaN           NaN             NaN       NaN   \n",
       "tomatoes                          0.0           0.0             0.0       0.0   \n",
       "potato                            0.0           0.0             0.0       0.0   \n",
       "passion fruit                     0.0           0.0             0.0       0.0   \n",
       "brassicas                         0.0           0.0             0.0       NaN   \n",
       "...                               ...           ...             ...       ...   \n",
       "oregano                           0.0           0.0             0.0       1.0   \n",
       "peppermint                        0.0           0.0             0.0       1.0   \n",
       "rosemary                          0.0           0.0             0.0       0.0   \n",
       "kohlrabi                          0.0           0.0             0.0       0.0   \n",
       "zinnia                            0.0           0.0             0.0       1.0   \n",
       "\n",
       "columns        okra  brassicas  potatoes  \n",
       "strawberries    NaN        NaN       NaN  \n",
       "tomatoes        0.0        NaN       NaN  \n",
       "potato          0.0        1.0       0.0  \n",
       "passion fruit   NaN        0.0       0.0  \n",
       "brassicas       0.0        0.0       1.0  \n",
       "...             ...        ...       ...  \n",
       "oregano         0.0        0.0       0.0  \n",
       "peppermint      0.0        1.0       0.0  \n",
       "rosemary        0.0        1.0       0.0  \n",
       "kohlrabi        0.0        0.0       0.0  \n",
       "zinnia          0.0        0.0       0.0  \n",
       "\n",
       "[86 rows x 155 columns]"
      ]
     },
     "execution_count": 214,
     "metadata": {},
     "output_type": "execute_result"
    }
   ],
   "source": [
    "frame.applymap(lambda x: {-1:np.nan}.get(x,x))"
   ]
  },
  {
   "cell_type": "code",
   "execution_count": 195,
   "metadata": {},
   "outputs": [
    {
     "data": {
      "text/plain": [
       "columns\n",
       "brassicas        1.0\n",
       "beans            1.0\n",
       "peas             1.0\n",
       "passion fruit    1.0\n",
       "corn             1.0\n",
       "Name: potato, dtype: float64"
      ]
     },
     "execution_count": 195,
     "metadata": {},
     "output_type": "execute_result"
    }
   ],
   "source": [
    "\n",
    "df.loc[\"potato\"][df.loc[\"potato\"] == 1]"
   ]
  },
  {
   "cell_type": "code",
   "execution_count": 196,
   "metadata": {},
   "outputs": [
    {
     "data": {
      "text/plain": [
       "columns\n",
       "cucumber      -1.0\n",
       "tomato        -1.0\n",
       "atriplex      -1.0\n",
       "carrot        -1.0\n",
       "pumpkin       -1.0\n",
       "raspberries   -1.0\n",
       "squash        -1.0\n",
       "sunflower     -1.0\n",
       "Name: potato, dtype: float64"
      ]
     },
     "execution_count": 196,
     "metadata": {},
     "output_type": "execute_result"
    }
   ],
   "source": [
    "df.loc[\"potato\"][df.loc[\"potato\"] == -1]"
   ]
  },
  {
   "cell_type": "code",
   "execution_count": 151,
   "metadata": {},
   "outputs": [
    {
     "data": {
      "image/png": "[encoded data removed]",
      "text/plain": [
       "<Figure size 640x480 with 1 Axes>"
      ]
     },
     "metadata": {},
     "output_type": "display_data"
    }
   ],
   "source": [
    "\n",
    "data = df.values\n",
    "linkage_data = linkage(data, method='ward', metric='euclidean')\n",
    "dendrogram(linkage_data)\n",
    "\n",
    "plt.show()\n",
    "\n"
   ]
  },
  {
   "cell_type": "code",
   "execution_count": 168,
   "metadata": {},
   "outputs": [
    {
     "data": {
      "application/vnd.plotly.v1+json": {
       "config": {
        "plotlyServerURL": "https://plot.ly"
       },
       "data": [
        {
         "hoverinfo": "text",
         "marker": {
          "color": "rgb(61,153,112)"
         },
         "mode": "lines",
         "type": "scatter",
         "x": [
          0,
          3.605551275463989,
          3.605551275463989,
          0
         ],
         "xaxis": "x",
         "y": [
          -25,
          -25,
          -35,
          -35
         ],
         "yaxis": "y"
        },
        {
         "hoverinfo": "text",
         "marker": {
          "color": "rgb(61,153,112)"
         },
         "mode": "lines",
         "type": "scatter",
         "x": [
          0,
          4,
          4,
          3.605551275463989
         ],
         "xaxis": "x",
         "y": [
          -15,
          -15,
          -30,
          -30
         ],
         "yaxis": "y"
        },
        {
         "hoverinfo": "text",
         "marker": {
          "color": "rgb(0,116,217)"
         },
         "mode": "lines",
         "type": "scatter",
         "x": [
          0,
          4.898979485566356,
          4.898979485566356,
          4
         ],
         "xaxis": "x",
         "y": [
          -5,
          -5,
          -22.5,
          -22.5
         ],
         "yaxis": "y"
        },
        {
         "hoverinfo": "text",
         "marker": {
          "color": "rgb(255,65,54)"
         },
         "mode": "lines",
         "type": "scatter",
         "x": [
          0,
          3.1622776601683795,
          3.1622776601683795,
          0
         ],
         "xaxis": "x",
         "y": [
          -65,
          -65,
          -75,
          -75
         ],
         "yaxis": "y"
        },
        {
         "hoverinfo": "text",
         "marker": {
          "color": "rgb(255,65,54)"
         },
         "mode": "lines",
         "type": "scatter",
         "x": [
          0,
          4.358898943540674,
          4.358898943540674,
          3.1622776601683795
         ],
         "xaxis": "x",
         "y": [
          -55,
          -55,
          -70,
          -70
         ],
         "yaxis": "y"
        },
        {
         "hoverinfo": "text",
         "marker": {
          "color": "rgb(0,116,217)"
         },
         "mode": "lines",
         "type": "scatter",
         "x": [
          0,
          4.795831523312719,
          4.795831523312719,
          4.358898943540674
         ],
         "xaxis": "x",
         "y": [
          -45,
          -45,
          -62.5,
          -62.5
         ],
         "yaxis": "y"
        },
        {
         "hoverinfo": "text",
         "marker": {
          "color": "rgb(35,205,205)"
         },
         "mode": "lines",
         "type": "scatter",
         "x": [
          0,
          3.872983346207417,
          3.872983346207417,
          0
         ],
         "xaxis": "x",
         "y": [
          -85,
          -85,
          -95,
          -95
         ],
         "yaxis": "y"
        },
        {
         "hoverinfo": "text",
         "marker": {
          "color": "rgb(35,205,205)"
         },
         "mode": "lines",
         "type": "scatter",
         "x": [
          0,
          4.123105625617661,
          4.123105625617661,
          0
         ],
         "xaxis": "x",
         "y": [
          -105,
          -105,
          -115,
          -115
         ],
         "yaxis": "y"
        },
        {
         "hoverinfo": "text",
         "marker": {
          "color": "rgb(35,205,205)"
         },
         "mode": "lines",
         "type": "scatter",
         "x": [
          3.872983346207417,
          4.47213595499958,
          4.47213595499958,
          4.123105625617661
         ],
         "xaxis": "x",
         "y": [
          -90,
          -90,
          -110,
          -110
         ],
         "yaxis": "y"
        },
        {
         "hoverinfo": "text",
         "marker": {
          "color": "rgb(133,20,75)"
         },
         "mode": "lines",
         "type": "scatter",
         "x": [
          0,
          2.6457513110645907,
          2.6457513110645907,
          0
         ],
         "xaxis": "x",
         "y": [
          -135,
          -135,
          -145,
          -145
         ],
         "yaxis": "y"
        },
        {
         "hoverinfo": "text",
         "marker": {
          "color": "rgb(133,20,75)"
         },
         "mode": "lines",
         "type": "scatter",
         "x": [
          0,
          3.605551275463989,
          3.605551275463989,
          2.6457513110645907
         ],
         "xaxis": "x",
         "y": [
          -125,
          -125,
          -140,
          -140
         ],
         "yaxis": "y"
        },
        {
         "hoverinfo": "text",
         "marker": {
          "color": "rgb(133,20,75)"
         },
         "mode": "lines",
         "type": "scatter",
         "x": [
          0,
          2.8284271247461903,
          2.8284271247461903,
          0
         ],
         "xaxis": "x",
         "y": [
          -165,
          -165,
          -175,
          -175
         ],
         "yaxis": "y"
        },
        {
         "hoverinfo": "text",
         "marker": {
          "color": "rgb(133,20,75)"
         },
         "mode": "lines",
         "type": "scatter",
         "x": [
          0,
          3.3166247903554,
          3.3166247903554,
          2.8284271247461903
         ],
         "xaxis": "x",
         "y": [
          -155,
          -155,
          -170,
          -170
         ],
         "yaxis": "y"
        },
        {
         "hoverinfo": "text",
         "marker": {
          "color": "rgb(133,20,75)"
         },
         "mode": "lines",
         "type": "scatter",
         "x": [
          0,
          1.4142135623730951,
          1.4142135623730951,
          0
         ],
         "xaxis": "x",
         "y": [
          -225,
          -225,
          -235,
          -235
         ],
         "yaxis": "y"
        },
        {
         "hoverinfo": "text",
         "marker": {
          "color": "rgb(133,20,75)"
         },
         "mode": "lines",
         "type": "scatter",
         "x": [
          0,
          1.7320508075688772,
          1.7320508075688772,
          1.4142135623730951
         ],
         "xaxis": "x",
         "y": [
          -215,
          -215,
          -230,
          -230
         ],
         "yaxis": "y"
        },
        {
         "hoverinfo": "text",
         "marker": {
          "color": "rgb(133,20,75)"
         },
         "mode": "lines",
         "type": "scatter",
         "x": [
          0,
          1.4142135623730951,
          1.4142135623730951,
          0
         ],
         "xaxis": "x",
         "y": [
          -255,
          -255,
          -265,
          -265
         ],
         "yaxis": "y"
        },
        {
         "hoverinfo": "text",
         "marker": {
          "color": "rgb(133,20,75)"
         },
         "mode": "lines",
         "type": "scatter",
         "x": [
          0,
          1.4142135623730951,
          1.4142135623730951,
          0
         ],
         "xaxis": "x",
         "y": [
          -275,
          -275,
          -285,
          -285
         ],
         "yaxis": "y"
        },
        {
         "hoverinfo": "text",
         "marker": {
          "color": "rgb(133,20,75)"
         },
         "mode": "lines",
         "type": "scatter",
         "x": [
          1.4142135623730951,
          2,
          2,
          1.4142135623730951
         ],
         "xaxis": "x",
         "y": [
          -260,
          -260,
          -280,
          -280
         ],
         "yaxis": "y"
        },
        {
         "hoverinfo": "text",
         "marker": {
          "color": "rgb(133,20,75)"
         },
         "mode": "lines",
         "type": "scatter",
         "x": [
          0,
          2,
          2,
          2
         ],
         "xaxis": "x",
         "y": [
          -245,
          -245,
          -270,
          -270
         ],
         "yaxis": "y"
        },
        {
         "hoverinfo": "text",
         "marker": {
          "color": "rgb(133,20,75)"
         },
         "mode": "lines",
         "type": "scatter",
         "x": [
          1.7320508075688772,
          2,
          2,
          2
         ],
         "xaxis": "x",
         "y": [
          -222.5,
          -222.5,
          -257.5,
          -257.5
         ],
         "yaxis": "y"
        },
        {
         "hoverinfo": "text",
         "marker": {
          "color": "rgb(133,20,75)"
         },
         "mode": "lines",
         "type": "scatter",
         "x": [
          0,
          2.23606797749979,
          2.23606797749979,
          2
         ],
         "xaxis": "x",
         "y": [
          -205,
          -205,
          -240,
          -240
         ],
         "yaxis": "y"
        },
        {
         "hoverinfo": "text",
         "marker": {
          "color": "rgb(133,20,75)"
         },
         "mode": "lines",
         "type": "scatter",
         "x": [
          0,
          2.6457513110645907,
          2.6457513110645907,
          2.23606797749979
         ],
         "xaxis": "x",
         "y": [
          -195,
          -195,
          -222.5,
          -222.5
         ],
         "yaxis": "y"
        },
        {
         "hoverinfo": "text",
         "marker": {
          "color": "rgb(133,20,75)"
         },
         "mode": "lines",
         "type": "scatter",
         "x": [
          0,
          2.8284271247461903,
          2.8284271247461903,
          0
         ],
         "xaxis": "x",
         "y": [
          -295,
          -295,
          -305,
          -305
         ],
         "yaxis": "y"
        },
        {
         "hoverinfo": "text",
         "marker": {
          "color": "rgb(133,20,75)"
         },
         "mode": "lines",
         "type": "scatter",
         "x": [
          2.6457513110645907,
          3,
          3,
          2.8284271247461903
         ],
         "xaxis": "x",
         "y": [
          -208.75,
          -208.75,
          -300,
          -300
         ],
         "yaxis": "y"
        },
        {
         "hoverinfo": "text",
         "marker": {
          "color": "rgb(133,20,75)"
         },
         "mode": "lines",
         "type": "scatter",
         "x": [
          0,
          3.605551275463989,
          3.605551275463989,
          3
         ],
         "xaxis": "x",
         "y": [
          -185,
          -185,
          -254.375,
          -254.375
         ],
         "yaxis": "y"
        },
        {
         "hoverinfo": "text",
         "marker": {
          "color": "rgb(133,20,75)"
         },
         "mode": "lines",
         "type": "scatter",
         "x": [
          3.3166247903554,
          3.872983346207417,
          3.872983346207417,
          3.605551275463989
         ],
         "xaxis": "x",
         "y": [
          -162.5,
          -162.5,
          -219.6875,
          -219.6875
         ],
         "yaxis": "y"
        },
        {
         "hoverinfo": "text",
         "marker": {
          "color": "rgb(133,20,75)"
         },
         "mode": "lines",
         "type": "scatter",
         "x": [
          3.605551275463989,
          4.123105625617661,
          4.123105625617661,
          3.872983346207417
         ],
         "xaxis": "x",
         "y": [
          -132.5,
          -132.5,
          -191.09375,
          -191.09375
         ],
         "yaxis": "y"
        },
        {
         "hoverinfo": "text",
         "marker": {
          "color": "rgb(255,220,0)"
         },
         "mode": "lines",
         "type": "scatter",
         "x": [
          0,
          1,
          1,
          0
         ],
         "xaxis": "x",
         "y": [
          -365,
          -365,
          -375,
          -375
         ],
         "yaxis": "y"
        },
        {
         "hoverinfo": "text",
         "marker": {
          "color": "rgb(255,220,0)"
         },
         "mode": "lines",
         "type": "scatter",
         "x": [
          0,
          1.7320508075688772,
          1.7320508075688772,
          1
         ],
         "xaxis": "x",
         "y": [
          -355,
          -355,
          -370,
          -370
         ],
         "yaxis": "y"
        },
        {
         "hoverinfo": "text",
         "marker": {
          "color": "rgb(255,220,0)"
         },
         "mode": "lines",
         "type": "scatter",
         "x": [
          0,
          2,
          2,
          1.7320508075688772
         ],
         "xaxis": "x",
         "y": [
          -345,
          -345,
          -362.5,
          -362.5
         ],
         "yaxis": "y"
        },
        {
         "hoverinfo": "text",
         "marker": {
          "color": "rgb(255,220,0)"
         },
         "mode": "lines",
         "type": "scatter",
         "x": [
          0,
          1,
          1,
          0
         ],
         "xaxis": "x",
         "y": [
          -405,
          -405,
          -415,
          -415
         ],
         "yaxis": "y"
        },
        {
         "hoverinfo": "text",
         "marker": {
          "color": "rgb(255,220,0)"
         },
         "mode": "lines",
         "type": "scatter",
         "x": [
          0,
          1.4142135623730951,
          1.4142135623730951,
          1
         ],
         "xaxis": "x",
         "y": [
          -395,
          -395,
          -410,
          -410
         ],
         "yaxis": "y"
        },
        {
         "hoverinfo": "text",
         "marker": {
          "color": "rgb(255,220,0)"
         },
         "mode": "lines",
         "type": "scatter",
         "x": [
          0,
          2,
          2,
          0
         ],
         "xaxis": "x",
         "y": [
          -435,
          -435,
          -445,
          -445
         ],
         "yaxis": "y"
        },
        {
         "hoverinfo": "text",
         "marker": {
          "color": "rgb(255,220,0)"
         },
         "mode": "lines",
         "type": "scatter",
         "x": [
          0,
          2,
          2,
          2
         ],
         "xaxis": "x",
         "y": [
          -425,
          -425,
          -440,
          -440
         ],
         "yaxis": "y"
        },
        {
         "hoverinfo": "text",
         "marker": {
          "color": "rgb(255,220,0)"
         },
         "mode": "lines",
         "type": "scatter",
         "x": [
          1.4142135623730951,
          2,
          2,
          2
         ],
         "xaxis": "x",
         "y": [
          -402.5,
          -402.5,
          -432.5,
          -432.5
         ],
         "yaxis": "y"
        },
        {
         "hoverinfo": "text",
         "marker": {
          "color": "rgb(255,220,0)"
         },
         "mode": "lines",
         "type": "scatter",
         "x": [
          0,
          2,
          2,
          2
         ],
         "xaxis": "x",
         "y": [
          -385,
          -385,
          -417.5,
          -417.5
         ],
         "yaxis": "y"
        },
        {
         "hoverinfo": "text",
         "marker": {
          "color": "rgb(255,220,0)"
         },
         "mode": "lines",
         "type": "scatter",
         "x": [
          2,
          2.449489742783178,
          2.449489742783178,
          2
         ],
         "xaxis": "x",
         "y": [
          -353.75,
          -353.75,
          -401.25,
          -401.25
         ],
         "yaxis": "y"
        },
        {
         "hoverinfo": "text",
         "marker": {
          "color": "rgb(255,220,0)"
         },
         "mode": "lines",
         "type": "scatter",
         "x": [
          0,
          2.6457513110645907,
          2.6457513110645907,
          2.449489742783178
         ],
         "xaxis": "x",
         "y": [
          -335,
          -335,
          -377.5,
          -377.5
         ],
         "yaxis": "y"
        },
        {
         "hoverinfo": "text",
         "marker": {
          "color": "rgb(255,220,0)"
         },
         "mode": "lines",
         "type": "scatter",
         "x": [
          0,
          0,
          0,
          0
         ],
         "xaxis": "x",
         "y": [
          -465,
          -465,
          -475,
          -475
         ],
         "yaxis": "y"
        },
        {
         "hoverinfo": "text",
         "marker": {
          "color": "rgb(255,220,0)"
         },
         "mode": "lines",
         "type": "scatter",
         "x": [
          0,
          2.23606797749979,
          2.23606797749979,
          0
         ],
         "xaxis": "x",
         "y": [
          -485,
          -485,
          -495,
          -495
         ],
         "yaxis": "y"
        },
        {
         "hoverinfo": "text",
         "marker": {
          "color": "rgb(255,220,0)"
         },
         "mode": "lines",
         "type": "scatter",
         "x": [
          0,
          2.449489742783178,
          2.449489742783178,
          2.23606797749979
         ],
         "xaxis": "x",
         "y": [
          -470,
          -470,
          -490,
          -490
         ],
         "yaxis": "y"
        },
        {
         "hoverinfo": "text",
         "marker": {
          "color": "rgb(255,220,0)"
         },
         "mode": "lines",
         "type": "scatter",
         "x": [
          0,
          2.6457513110645907,
          2.6457513110645907,
          2.449489742783178
         ],
         "xaxis": "x",
         "y": [
          -455,
          -455,
          -480,
          -480
         ],
         "yaxis": "y"
        },
        {
         "hoverinfo": "text",
         "marker": {
          "color": "rgb(255,220,0)"
         },
         "mode": "lines",
         "type": "scatter",
         "x": [
          2.6457513110645907,
          2.8284271247461903,
          2.8284271247461903,
          2.6457513110645907
         ],
         "xaxis": "x",
         "y": [
          -356.25,
          -356.25,
          -467.5,
          -467.5
         ],
         "yaxis": "y"
        },
        {
         "hoverinfo": "text",
         "marker": {
          "color": "rgb(255,220,0)"
         },
         "mode": "lines",
         "type": "scatter",
         "x": [
          0,
          3.4641016151377544,
          3.4641016151377544,
          2.8284271247461903
         ],
         "xaxis": "x",
         "y": [
          -325,
          -325,
          -411.875,
          -411.875
         ],
         "yaxis": "y"
        },
        {
         "hoverinfo": "text",
         "marker": {
          "color": "rgb(255,220,0)"
         },
         "mode": "lines",
         "type": "scatter",
         "x": [
          0,
          1,
          1,
          0
         ],
         "xaxis": "x",
         "y": [
          -555,
          -555,
          -565,
          -565
         ],
         "yaxis": "y"
        },
        {
         "hoverinfo": "text",
         "marker": {
          "color": "rgb(255,220,0)"
         },
         "mode": "lines",
         "type": "scatter",
         "x": [
          0,
          1.7320508075688772,
          1.7320508075688772,
          0
         ],
         "xaxis": "x",
         "y": [
          -575,
          -575,
          -585,
          -585
         ],
         "yaxis": "y"
        },
        {
         "hoverinfo": "text",
         "marker": {
          "color": "rgb(255,220,0)"
         },
         "mode": "lines",
         "type": "scatter",
         "x": [
          1,
          2,
          2,
          1.7320508075688772
         ],
         "xaxis": "x",
         "y": [
          -560,
          -560,
          -580,
          -580
         ],
         "yaxis": "y"
        },
        {
         "hoverinfo": "text",
         "marker": {
          "color": "rgb(255,220,0)"
         },
         "mode": "lines",
         "type": "scatter",
         "x": [
          0,
          2.6457513110645907,
          2.6457513110645907,
          2
         ],
         "xaxis": "x",
         "y": [
          -545,
          -545,
          -570,
          -570
         ],
         "yaxis": "y"
        },
        {
         "hoverinfo": "text",
         "marker": {
          "color": "rgb(255,220,0)"
         },
         "mode": "lines",
         "type": "scatter",
         "x": [
          0,
          2.8284271247461903,
          2.8284271247461903,
          2.6457513110645907
         ],
         "xaxis": "x",
         "y": [
          -535,
          -535,
          -557.5,
          -557.5
         ],
         "yaxis": "y"
        },
        {
         "hoverinfo": "text",
         "marker": {
          "color": "rgb(255,220,0)"
         },
         "mode": "lines",
         "type": "scatter",
         "x": [
          0,
          3,
          3,
          2.8284271247461903
         ],
         "xaxis": "x",
         "y": [
          -525,
          -525,
          -546.25,
          -546.25
         ],
         "yaxis": "y"
        },
        {
         "hoverinfo": "text",
         "marker": {
          "color": "rgb(255,220,0)"
         },
         "mode": "lines",
         "type": "scatter",
         "x": [
          0,
          3.3166247903554,
          3.3166247903554,
          3
         ],
         "xaxis": "x",
         "y": [
          -515,
          -515,
          -535.625,
          -535.625
         ],
         "yaxis": "y"
        },
        {
         "hoverinfo": "text",
         "marker": {
          "color": "rgb(255,220,0)"
         },
         "mode": "lines",
         "type": "scatter",
         "x": [
          0,
          3.605551275463989,
          3.605551275463989,
          3.3166247903554
         ],
         "xaxis": "x",
         "y": [
          -505,
          -505,
          -525.3125,
          -525.3125
         ],
         "yaxis": "y"
        },
        {
         "hoverinfo": "text",
         "marker": {
          "color": "rgb(255,220,0)"
         },
         "mode": "lines",
         "type": "scatter",
         "x": [
          3.4641016151377544,
          3.7416573867739413,
          3.7416573867739413,
          3.605551275463989
         ],
         "xaxis": "x",
         "y": [
          -368.4375,
          -368.4375,
          -515.15625,
          -515.15625
         ],
         "yaxis": "y"
        },
        {
         "hoverinfo": "text",
         "marker": {
          "color": "rgb(255,220,0)"
         },
         "mode": "lines",
         "type": "scatter",
         "x": [
          0,
          3.3166247903554,
          3.3166247903554,
          0
         ],
         "xaxis": "x",
         "y": [
          -595,
          -595,
          -605,
          -605
         ],
         "yaxis": "y"
        },
        {
         "hoverinfo": "text",
         "marker": {
          "color": "rgb(255,220,0)"
         },
         "mode": "lines",
         "type": "scatter",
         "x": [
          0,
          1,
          1,
          0
         ],
         "xaxis": "x",
         "y": [
          -645,
          -645,
          -655,
          -655
         ],
         "yaxis": "y"
        },
        {
         "hoverinfo": "text",
         "marker": {
          "color": "rgb(255,220,0)"
         },
         "mode": "lines",
         "type": "scatter",
         "x": [
          0,
          0,
          0,
          0
         ],
         "xaxis": "x",
         "y": [
          -675,
          -675,
          -685,
          -685
         ],
         "yaxis": "y"
        },
        {
         "hoverinfo": "text",
         "marker": {
          "color": "rgb(255,220,0)"
         },
         "mode": "lines",
         "type": "scatter",
         "x": [
          0,
          1.4142135623730951,
          1.4142135623730951,
          0
         ],
         "xaxis": "x",
         "y": [
          -695,
          -695,
          -705,
          -705
         ],
         "yaxis": "y"
        },
        {
         "hoverinfo": "text",
         "marker": {
          "color": "rgb(255,220,0)"
         },
         "mode": "lines",
         "type": "scatter",
         "x": [
          0,
          1.4142135623730951,
          1.4142135623730951,
          1.4142135623730951
         ],
         "xaxis": "x",
         "y": [
          -680,
          -680,
          -700,
          -700
         ],
         "yaxis": "y"
        },
        {
         "hoverinfo": "text",
         "marker": {
          "color": "rgb(255,220,0)"
         },
         "mode": "lines",
         "type": "scatter",
         "x": [
          0,
          1.4142135623730951,
          1.4142135623730951,
          1.4142135623730951
         ],
         "xaxis": "x",
         "y": [
          -665,
          -665,
          -690,
          -690
         ],
         "yaxis": "y"
        },
        {
         "hoverinfo": "text",
         "marker": {
          "color": "rgb(255,220,0)"
         },
         "mode": "lines",
         "type": "scatter",
         "x": [
          1,
          1.7320508075688772,
          1.7320508075688772,
          1.4142135623730951
         ],
         "xaxis": "x",
         "y": [
          -650,
          -650,
          -677.5,
          -677.5
         ],
         "yaxis": "y"
        },
        {
         "hoverinfo": "text",
         "marker": {
          "color": "rgb(255,220,0)"
         },
         "mode": "lines",
         "type": "scatter",
         "x": [
          0,
          1.4142135623730951,
          1.4142135623730951,
          0
         ],
         "xaxis": "x",
         "y": [
          -725,
          -725,
          -735,
          -735
         ],
         "yaxis": "y"
        },
        {
         "hoverinfo": "text",
         "marker": {
          "color": "rgb(255,220,0)"
         },
         "mode": "lines",
         "type": "scatter",
         "x": [
          0,
          2,
          2,
          1.4142135623730951
         ],
         "xaxis": "x",
         "y": [
          -715,
          -715,
          -730,
          -730
         ],
         "yaxis": "y"
        },
        {
         "hoverinfo": "text",
         "marker": {
          "color": "rgb(255,220,0)"
         },
         "mode": "lines",
         "type": "scatter",
         "x": [
          1.7320508075688772,
          2,
          2,
          2
         ],
         "xaxis": "x",
         "y": [
          -663.75,
          -663.75,
          -722.5,
          -722.5
         ],
         "yaxis": "y"
        },
        {
         "hoverinfo": "text",
         "marker": {
          "color": "rgb(255,220,0)"
         },
         "mode": "lines",
         "type": "scatter",
         "x": [
          0,
          2.23606797749979,
          2.23606797749979,
          2
         ],
         "xaxis": "x",
         "y": [
          -635,
          -635,
          -693.125,
          -693.125
         ],
         "yaxis": "y"
        },
        {
         "hoverinfo": "text",
         "marker": {
          "color": "rgb(255,220,0)"
         },
         "mode": "lines",
         "type": "scatter",
         "x": [
          0,
          2.6457513110645907,
          2.6457513110645907,
          2.23606797749979
         ],
         "xaxis": "x",
         "y": [
          -625,
          -625,
          -664.0625,
          -664.0625
         ],
         "yaxis": "y"
        },
        {
         "hoverinfo": "text",
         "marker": {
          "color": "rgb(255,220,0)"
         },
         "mode": "lines",
         "type": "scatter",
         "x": [
          0,
          2.8284271247461903,
          2.8284271247461903,
          0
         ],
         "xaxis": "x",
         "y": [
          -745,
          -745,
          -755,
          -755
         ],
         "yaxis": "y"
        },
        {
         "hoverinfo": "text",
         "marker": {
          "color": "rgb(255,220,0)"
         },
         "mode": "lines",
         "type": "scatter",
         "x": [
          2.6457513110645907,
          3.1622776601683795,
          3.1622776601683795,
          2.8284271247461903
         ],
         "xaxis": "x",
         "y": [
          -644.53125,
          -644.53125,
          -750,
          -750
         ],
         "yaxis": "y"
        },
        {
         "hoverinfo": "text",
         "marker": {
          "color": "rgb(255,220,0)"
         },
         "mode": "lines",
         "type": "scatter",
         "x": [
          0,
          3.3166247903554,
          3.3166247903554,
          3.1622776601683795
         ],
         "xaxis": "x",
         "y": [
          -615,
          -615,
          -697.265625,
          -697.265625
         ],
         "yaxis": "y"
        },
        {
         "hoverinfo": "text",
         "marker": {
          "color": "rgb(255,220,0)"
         },
         "mode": "lines",
         "type": "scatter",
         "x": [
          0,
          2.6457513110645907,
          2.6457513110645907,
          0
         ],
         "xaxis": "x",
         "y": [
          -765,
          -765,
          -775,
          -775
         ],
         "yaxis": "y"
        },
        {
         "hoverinfo": "text",
         "marker": {
          "color": "rgb(255,220,0)"
         },
         "mode": "lines",
         "type": "scatter",
         "x": [
          0,
          2.449489742783178,
          2.449489742783178,
          0
         ],
         "xaxis": "x",
         "y": [
          -795,
          -795,
          -805,
          -805
         ],
         "yaxis": "y"
        },
        {
         "hoverinfo": "text",
         "marker": {
          "color": "rgb(255,220,0)"
         },
         "mode": "lines",
         "type": "scatter",
         "x": [
          0,
          2.8284271247461903,
          2.8284271247461903,
          2.449489742783178
         ],
         "xaxis": "x",
         "y": [
          -785,
          -785,
          -800,
          -800
         ],
         "yaxis": "y"
        },
        {
         "hoverinfo": "text",
         "marker": {
          "color": "rgb(255,220,0)"
         },
         "mode": "lines",
         "type": "scatter",
         "x": [
          2.6457513110645907,
          3.3166247903554,
          3.3166247903554,
          2.8284271247461903
         ],
         "xaxis": "x",
         "y": [
          -770,
          -770,
          -792.5,
          -792.5
         ],
         "yaxis": "y"
        },
        {
         "hoverinfo": "text",
         "marker": {
          "color": "rgb(255,220,0)"
         },
         "mode": "lines",
         "type": "scatter",
         "x": [
          3.3166247903554,
          3.4641016151377544,
          3.4641016151377544,
          3.3166247903554
         ],
         "xaxis": "x",
         "y": [
          -656.1328125,
          -656.1328125,
          -781.25,
          -781.25
         ],
         "yaxis": "y"
        },
        {
         "hoverinfo": "text",
         "marker": {
          "color": "rgb(255,220,0)"
         },
         "mode": "lines",
         "type": "scatter",
         "x": [
          0,
          2.6457513110645907,
          2.6457513110645907,
          0
         ],
         "xaxis": "x",
         "y": [
          -825,
          -825,
          -835,
          -835
         ],
         "yaxis": "y"
        },
        {
         "hoverinfo": "text",
         "marker": {
          "color": "rgb(255,220,0)"
         },
         "mode": "lines",
         "type": "scatter",
         "x": [
          0,
          3.4641016151377544,
          3.4641016151377544,
          2.6457513110645907
         ],
         "xaxis": "x",
         "y": [
          -815,
          -815,
          -830,
          -830
         ],
         "yaxis": "y"
        },
        {
         "hoverinfo": "text",
         "marker": {
          "color": "rgb(255,220,0)"
         },
         "mode": "lines",
         "type": "scatter",
         "x": [
          3.4641016151377544,
          3.7416573867739413,
          3.7416573867739413,
          3.4641016151377544
         ],
         "xaxis": "x",
         "y": [
          -718.69140625,
          -718.69140625,
          -822.5,
          -822.5
         ],
         "yaxis": "y"
        },
        {
         "hoverinfo": "text",
         "marker": {
          "color": "rgb(255,220,0)"
         },
         "mode": "lines",
         "type": "scatter",
         "x": [
          3.3166247903554,
          4,
          4,
          3.7416573867739413
         ],
         "xaxis": "x",
         "y": [
          -600,
          -600,
          -770.595703125,
          -770.595703125
         ],
         "yaxis": "y"
        },
        {
         "hoverinfo": "text",
         "marker": {
          "color": "rgb(255,220,0)"
         },
         "mode": "lines",
         "type": "scatter",
         "x": [
          3.7416573867739413,
          4.123105625617661,
          4.123105625617661,
          4
         ],
         "xaxis": "x",
         "y": [
          -441.796875,
          -441.796875,
          -685.2978515625,
          -685.2978515625
         ],
         "yaxis": "y"
        },
        {
         "hoverinfo": "text",
         "marker": {
          "color": "rgb(255,220,0)"
         },
         "mode": "lines",
         "type": "scatter",
         "x": [
          0,
          4.47213595499958,
          4.47213595499958,
          4.123105625617661
         ],
         "xaxis": "x",
         "y": [
          -315,
          -315,
          -563.54736328125,
          -563.54736328125
         ],
         "yaxis": "y"
        },
        {
         "hoverinfo": "text",
         "marker": {
          "color": "rgb(0,116,217)"
         },
         "mode": "lines",
         "type": "scatter",
         "x": [
          4.123105625617661,
          4.58257569495584,
          4.58257569495584,
          4.47213595499958
         ],
         "xaxis": "x",
         "y": [
          -161.796875,
          -161.796875,
          -439.273681640625,
          -439.273681640625
         ],
         "yaxis": "y"
        },
        {
         "hoverinfo": "text",
         "marker": {
          "color": "rgb(0,116,217)"
         },
         "mode": "lines",
         "type": "scatter",
         "x": [
          4.47213595499958,
          4.898979485566356,
          4.898979485566356,
          4.58257569495584
         ],
         "xaxis": "x",
         "y": [
          -100,
          -100,
          -300.5352783203125,
          -300.5352783203125
         ],
         "yaxis": "y"
        },
        {
         "hoverinfo": "text",
         "marker": {
          "color": "rgb(0,116,217)"
         },
         "mode": "lines",
         "type": "scatter",
         "x": [
          4.795831523312719,
          5.0990195135927845,
          5.0990195135927845,
          4.898979485566356
         ],
         "xaxis": "x",
         "y": [
          -53.75,
          -53.75,
          -200.26763916015625,
          -200.26763916015625
         ],
         "yaxis": "y"
        },
        {
         "hoverinfo": "text",
         "marker": {
          "color": "rgb(0,116,217)"
         },
         "mode": "lines",
         "type": "scatter",
         "x": [
          4.898979485566356,
          5.477225575051661,
          5.477225575051661,
          5.0990195135927845
         ],
         "xaxis": "x",
         "y": [
          -13.75,
          -13.75,
          -127.00881958007812,
          -127.00881958007812
         ],
         "yaxis": "y"
        },
        {
         "hoverinfo": "text",
         "marker": {
          "color": "rgb(0,116,217)"
         },
         "mode": "lines",
         "type": "scatter",
         "x": [
          0,
          5.744562646538029,
          5.744562646538029,
          0
         ],
         "xaxis": "x",
         "y": [
          -845,
          -845,
          -855,
          -855
         ],
         "yaxis": "y"
        },
        {
         "hoverinfo": "text",
         "marker": {
          "color": "rgb(0,116,217)"
         },
         "mode": "lines",
         "type": "scatter",
         "x": [
          5.477225575051661,
          6.4031242374328485,
          6.4031242374328485,
          5.744562646538029
         ],
         "xaxis": "x",
         "y": [
          -70.37940979003906,
          -70.37940979003906,
          -850,
          -850
         ],
         "yaxis": "y"
        }
       ],
       "layout": {
        "autosize": false,
        "height": 1300,
        "hovermode": "closest",
        "showlegend": false,
        "template": {
         "data": {
          "bar": [
           {
            "error_x": {
             "color": "#2a3f5f"
            },
            "error_y": {
             "color": "#2a3f5f"
            },
            "marker": {
             "line": {
              "color": "#E5ECF6",
              "width": 0.5
             },
             "pattern": {
              "fillmode": "overlay",
              "size": 10,
              "solidity": 0.2
             }
            },
            "type": "bar"
           }
          ],
          "barpolar": [
           {
            "marker": {
             "line": {
              "color": "#E5ECF6",
              "width": 0.5
             },
             "pattern": {
              "fillmode": "overlay",
              "size": 10,
              "solidity": 0.2
             }
            },
            "type": "barpolar"
           }
          ],
          "carpet": [
           {
            "aaxis": {
             "endlinecolor": "#2a3f5f",
             "gridcolor": "white",
             "linecolor": "white",
             "minorgridcolor": "white",
             "startlinecolor": "#2a3f5f"
            },
            "baxis": {
             "endlinecolor": "#2a3f5f",
             "gridcolor": "white",
             "linecolor": "white",
             "minorgridcolor": "white",
             "startlinecolor": "#2a3f5f"
            },
            "type": "carpet"
           }
          ],
          "choropleth": [
           {
            "colorbar": {
             "outlinewidth": 0,
             "ticks": ""
            },
            "type": "choropleth"
           }
          ],
          "contour": [
           {
            "colorbar": {
             "outlinewidth": 0,
             "ticks": ""
            },
            "colorscale": [
             [
              0,
              "#0d0887"
             ],
             [
              0.1111111111111111,
              "#46039f"
             ],
             [
              0.2222222222222222,
              "#7201a8"
             ],
             [
              0.3333333333333333,
              "#9c179e"
             ],
             [
              0.4444444444444444,
              "#bd3786"
             ],
             [
              0.5555555555555556,
              "#d8576b"
             ],
             [
              0.6666666666666666,
              "#ed7953"
             ],
             [
              0.7777777777777778,
              "#fb9f3a"
             ],
             [
              0.8888888888888888,
              "#fdca26"
             ],
             [
              1,
              "#f0f921"
             ]
            ],
            "type": "contour"
           }
          ],
          "contourcarpet": [
           {
            "colorbar": {
             "outlinewidth": 0,
             "ticks": ""
            },
            "type": "contourcarpet"
           }
          ],
          "heatmap": [
           {
            "colorbar": {
             "outlinewidth": 0,
             "ticks": ""
            },
            "colorscale": [
             [
              0,
              "#0d0887"
             ],
             [
              0.1111111111111111,
              "#46039f"
             ],
             [
              0.2222222222222222,
              "#7201a8"
             ],
             [
              0.3333333333333333,
              "#9c179e"
             ],
             [
              0.4444444444444444,
              "#bd3786"
             ],
             [
              0.5555555555555556,
              "#d8576b"
             ],
             [
              0.6666666666666666,
              "#ed7953"
             ],
             [
              0.7777777777777778,
              "#fb9f3a"
             ],
             [
              0.8888888888888888,
              "#fdca26"
             ],
             [
              1,
              "#f0f921"
             ]
            ],
            "type": "heatmap"
           }
          ],
          "heatmapgl": [
           {
            "colorbar": {
             "outlinewidth": 0,
             "ticks": ""
            },
            "colorscale": [
             [
              0,
              "#0d0887"
             ],
             [
              0.1111111111111111,
              "#46039f"
             ],
             [
              0.2222222222222222,
              "#7201a8"
             ],
             [
              0.3333333333333333,
              "#9c179e"
             ],
             [
              0.4444444444444444,
              "#bd3786"
             ],
             [
              0.5555555555555556,
              "#d8576b"
             ],
             [
              0.6666666666666666,
              "#ed7953"
             ],
             [
              0.7777777777777778,
              "#fb9f3a"
             ],
             [
              0.8888888888888888,
              "#fdca26"
             ],
             [
              1,
              "#f0f921"
             ]
            ],
            "type": "heatmapgl"
           }
          ],
          "histogram": [
           {
            "marker": {
             "pattern": {
              "fillmode": "overlay",
              "size": 10,
              "solidity": 0.2
             }
            },
            "type": "histogram"
           }
          ],
          "histogram2d": [
           {
            "colorbar": {
             "outlinewidth": 0,
             "ticks": ""
            },
            "colorscale": [
             [
              0,
              "#0d0887"
             ],
             [
              0.1111111111111111,
              "#46039f"
             ],
             [
              0.2222222222222222,
              "#7201a8"
             ],
             [
              0.3333333333333333,
              "#9c179e"
             ],
             [
              0.4444444444444444,
              "#bd3786"
             ],
             [
              0.5555555555555556,
              "#d8576b"
             ],
             [
              0.6666666666666666,
              "#ed7953"
             ],
             [
              0.7777777777777778,
              "#fb9f3a"
             ],
             [
              0.8888888888888888,
              "#fdca26"
             ],
             [
              1,
              "#f0f921"
             ]
            ],
            "type": "histogram2d"
           }
          ],
          "histogram2dcontour": [
           {
            "colorbar": {
             "outlinewidth": 0,
             "ticks": ""
            },
            "colorscale": [
             [
              0,
              "#0d0887"
             ],
             [
              0.1111111111111111,
              "#46039f"
             ],
             [
              0.2222222222222222,
              "#7201a8"
             ],
             [
              0.3333333333333333,
              "#9c179e"
             ],
             [
              0.4444444444444444,
              "#bd3786"
             ],
             [
              0.5555555555555556,
              "#d8576b"
             ],
             [
              0.6666666666666666,
              "#ed7953"
             ],
             [
              0.7777777777777778,
              "#fb9f3a"
             ],
             [
              0.8888888888888888,
              "#fdca26"
             ],
             [
              1,
              "#f0f921"
             ]
            ],
            "type": "histogram2dcontour"
           }
          ],
          "mesh3d": [
           {
            "colorbar": {
             "outlinewidth": 0,
             "ticks": ""
            },
            "type": "mesh3d"
           }
          ],
          "parcoords": [
           {
            "line": {
             "colorbar": {
              "outlinewidth": 0,
              "ticks": ""
             }
            },
            "type": "parcoords"
           }
          ],
          "pie": [
           {
            "automargin": true,
            "type": "pie"
           }
          ],
          "scatter": [
           {
            "fillpattern": {
             "fillmode": "overlay",
             "size": 10,
             "solidity": 0.2
            },
            "type": "scatter"
           }
          ],
          "scatter3d": [
           {
            "line": {
             "colorbar": {
              "outlinewidth": 0,
              "ticks": ""
             }
            },
            "marker": {
             "colorbar": {
              "outlinewidth": 0,
              "ticks": ""
             }
            },
            "type": "scatter3d"
           }
          ],
          "scattercarpet": [
           {
            "marker": {
             "colorbar": {
              "outlinewidth": 0,
              "ticks": ""
             }
            },
            "type": "scattercarpet"
           }
          ],
          "scattergeo": [
           {
            "marker": {
             "colorbar": {
              "outlinewidth": 0,
              "ticks": ""
             }
            },
            "type": "scattergeo"
           }
          ],
          "scattergl": [
           {
            "marker": {
             "colorbar": {
              "outlinewidth": 0,
              "ticks": ""
             }
            },
            "type": "scattergl"
           }
          ],
          "scattermapbox": [
           {
            "marker": {
             "colorbar": {
              "outlinewidth": 0,
              "ticks": ""
             }
            },
            "type": "scattermapbox"
           }
          ],
          "scatterpolar": [
           {
            "marker": {
             "colorbar": {
              "outlinewidth": 0,
              "ticks": ""
             }
            },
            "type": "scatterpolar"
           }
          ],
          "scatterpolargl": [
           {
            "marker": {
             "colorbar": {
              "outlinewidth": 0,
              "ticks": ""
             }
            },
            "type": "scatterpolargl"
           }
          ],
          "scatterternary": [
           {
            "marker": {
             "colorbar": {
              "outlinewidth": 0,
              "ticks": ""
             }
            },
            "type": "scatterternary"
           }
          ],
          "surface": [
           {
            "colorbar": {
             "outlinewidth": 0,
             "ticks": ""
            },
            "colorscale": [
             [
              0,
              "#0d0887"
             ],
             [
              0.1111111111111111,
              "#46039f"
             ],
             [
              0.2222222222222222,
              "#7201a8"
             ],
             [
              0.3333333333333333,
              "#9c179e"
             ],
             [
              0.4444444444444444,
              "#bd3786"
             ],
             [
              0.5555555555555556,
              "#d8576b"
             ],
             [
              0.6666666666666666,
              "#ed7953"
             ],
             [
              0.7777777777777778,
              "#fb9f3a"
             ],
             [
              0.8888888888888888,
              "#fdca26"
             ],
             [
              1,
              "#f0f921"
             ]
            ],
            "type": "surface"
           }
          ],
          "table": [
           {
            "cells": {
             "fill": {
              "color": "#EBF0F8"
             },
             "line": {
              "color": "white"
             }
            },
            "header": {
             "fill": {
              "color": "#C8D4E3"
             },
             "line": {
              "color": "white"
             }
            },
            "type": "table"
           }
          ]
         },
         "layout": {
          "annotationdefaults": {
           "arrowcolor": "#2a3f5f",
           "arrowhead": 0,
           "arrowwidth": 1
          },
          "autotypenumbers": "strict",
          "coloraxis": {
           "colorbar": {
            "outlinewidth": 0,
            "ticks": ""
           }
          },
          "colorscale": {
           "diverging": [
            [
             0,
             "#8e0152"
            ],
            [
             0.1,
             "#c51b7d"
            ],
            [
             0.2,
             "#de77ae"
            ],
            [
             0.3,
             "#f1b6da"
            ],
            [
             0.4,
             "#fde0ef"
            ],
            [
             0.5,
             "#f7f7f7"
            ],
            [
             0.6,
             "#e6f5d0"
            ],
            [
             0.7,
             "#b8e186"
            ],
            [
             0.8,
             "#7fbc41"
            ],
            [
             0.9,
             "#4d9221"
            ],
            [
             1,
             "#276419"
            ]
           ],
           "sequential": [
            [
             0,
             "#0d0887"
            ],
            [
             0.1111111111111111,
             "#46039f"
            ],
            [
             0.2222222222222222,
             "#7201a8"
            ],
            [
             0.3333333333333333,
             "#9c179e"
            ],
            [
             0.4444444444444444,
             "#bd3786"
            ],
            [
             0.5555555555555556,
             "#d8576b"
            ],
            [
             0.6666666666666666,
             "#ed7953"
            ],
            [
             0.7777777777777778,
             "#fb9f3a"
            ],
            [
             0.8888888888888888,
             "#fdca26"
            ],
            [
             1,
             "#f0f921"
            ]
           ],
           "sequentialminus": [
            [
             0,
             "#0d0887"
            ],
            [
             0.1111111111111111,
             "#46039f"
            ],
            [
             0.2222222222222222,
             "#7201a8"
            ],
            [
             0.3333333333333333,
             "#9c179e"
            ],
            [
             0.4444444444444444,
             "#bd3786"
            ],
            [
             0.5555555555555556,
             "#d8576b"
            ],
            [
             0.6666666666666666,
             "#ed7953"
            ],
            [
             0.7777777777777778,
             "#fb9f3a"
            ],
            [
             0.8888888888888888,
             "#fdca26"
            ],
            [
             1,
             "#f0f921"
            ]
           ]
          },
          "colorway": [
           "#636efa",
           "#EF553B",
           "#00cc96",
           "#ab63fa",
           "#FFA15A",
           "#19d3f3",
           "#FF6692",
           "#B6E880",
           "#FF97FF",
           "#FECB52"
          ],
          "font": {
           "color": "#2a3f5f"
          },
          "geo": {
           "bgcolor": "white",
           "lakecolor": "white",
           "landcolor": "#E5ECF6",
           "showlakes": true,
           "showland": true,
           "subunitcolor": "white"
          },
          "hoverlabel": {
           "align": "left"
          },
          "hovermode": "closest",
          "mapbox": {
           "style": "light"
          },
          "paper_bgcolor": "white",
          "plot_bgcolor": "#E5ECF6",
          "polar": {
           "angularaxis": {
            "gridcolor": "white",
            "linecolor": "white",
            "ticks": ""
           },
           "bgcolor": "#E5ECF6",
           "radialaxis": {
            "gridcolor": "white",
            "linecolor": "white",
            "ticks": ""
           }
          },
          "scene": {
           "xaxis": {
            "backgroundcolor": "#E5ECF6",
            "gridcolor": "white",
            "gridwidth": 2,
            "linecolor": "white",
            "showbackground": true,
            "ticks": "",
            "zerolinecolor": "white"
           },
           "yaxis": {
            "backgroundcolor": "#E5ECF6",
            "gridcolor": "white",
            "gridwidth": 2,
            "linecolor": "white",
            "showbackground": true,
            "ticks": "",
            "zerolinecolor": "white"
           },
           "zaxis": {
            "backgroundcolor": "#E5ECF6",
            "gridcolor": "white",
            "gridwidth": 2,
            "linecolor": "white",
            "showbackground": true,
            "ticks": "",
            "zerolinecolor": "white"
           }
          },
          "shapedefaults": {
           "line": {
            "color": "#2a3f5f"
           }
          },
          "ternary": {
           "aaxis": {
            "gridcolor": "white",
            "linecolor": "white",
            "ticks": ""
           },
           "baxis": {
            "gridcolor": "white",
            "linecolor": "white",
            "ticks": ""
           },
           "bgcolor": "#E5ECF6",
           "caxis": {
            "gridcolor": "white",
            "linecolor": "white",
            "ticks": ""
           }
          },
          "title": {
           "x": 0.05
          },
          "xaxis": {
           "automargin": true,
           "gridcolor": "white",
           "linecolor": "white",
           "ticks": "",
           "title": {
            "standoff": 15
           },
           "zerolinecolor": "white",
           "zerolinewidth": 2
          },
          "yaxis": {
           "automargin": true,
           "gridcolor": "white",
           "linecolor": "white",
           "ticks": "",
           "title": {
            "standoff": 15
           },
           "zerolinecolor": "white",
           "zerolinewidth": 2
          }
         }
        },
        "width": 800,
        "xaxis": {
         "mirror": "allticks",
         "rangemode": "tozero",
         "showgrid": false,
         "showline": true,
         "showticklabels": true,
         "ticks": "outside",
         "type": "linear",
         "zeroline": false
        },
        "yaxis": {
         "mirror": "allticks",
         "rangemode": "tozero",
         "showgrid": false,
         "showline": true,
         "showticklabels": true,
         "tickmode": "array",
         "ticks": "outside",
         "ticktext": [
          "legumes",
          "onion",
          "alliums",
          "chives",
          "potato",
          "brassicas",
          "beets",
          "dill",
          "garlic",
          "marigold",
          "carrots",
          "lavender",
          "mustard",
          "sage",
          "thyme",
          "borage",
          "nasturtium",
          "tansy",
          "lupin",
          "turnips and rutabagas",
          "cauliflower",
          "cabbage",
          "lovage",
          "larkspur",
          "summer savoury",
          "cucurbits",
          "pumpkin",
          "squash",
          "sweet potato",
          "cucumber",
          "radish",
          "lettuce",
          "passion fruit",
          "celery",
          "peas",
          "wormwood",
          "chard",
          "spinach",
          "swan plant",
          "alyssum",
          "broccoli",
          "chervil",
          "tarragon",
          "apple",
          "caraway",
          "chamomile",
          "peppermint",
          "spearmint",
          "hyssop",
          "rosemary",
          "stinging nettle",
          "asparagus",
          "corn",
          "sunflower",
          "parsley",
          "eggplant or aubergine",
          "zinnia",
          "okra",
          "oregano",
          "basil",
          "geraniums",
          "beans, bush",
          "peppers",
          "grapes",
          "parsnip",
          "southernwood",
          "bee balm",
          "catnip",
          "lemon grass",
          "apricot",
          "blueberries",
          "yarrow",
          "fennel",
          "flax",
          "beans, pole",
          "nightshades",
          "kohlrabi",
          "petunia",
          "leek",
          "cilantro / coriander",
          "phacelia",
          "pansy",
          "dianthus",
          "sweet pea",
          "tomatoes",
          "strawberries"
         ],
         "tickvals": [
          -5,
          -15,
          -25,
          -35,
          -45,
          -55,
          -65,
          -75,
          -85,
          -95,
          -105,
          -115,
          -125,
          -135,
          -145,
          -155,
          -165,
          -175,
          -185,
          -195,
          -205,
          -215,
          -225,
          -235,
          -245,
          -255,
          -265,
          -275,
          -285,
          -295,
          -305,
          -315,
          -325,
          -335,
          -345,
          -355,
          -365,
          -375,
          -385,
          -395,
          -405,
          -415,
          -425,
          -435,
          -445,
          -455,
          -465,
          -475,
          -485,
          -495,
          -505,
          -515,
          -525,
          -535,
          -545,
          -555,
          -565,
          -575,
          -585,
          -595,
          -605,
          -615,
          -625,
          -635,
          -645,
          -655,
          -665,
          -675,
          -685,
          -695,
          -705,
          -715,
          -725,
          -735,
          -745,
          -755,
          -765,
          -775,
          -785,
          -795,
          -805,
          -815,
          -825,
          -835,
          -845,
          -855
         ],
         "type": "linear",
         "zeroline": false
        }
       }
      }
     },
     "metadata": {},
     "output_type": "display_data"
    }
   ],
   "source": [
    "data = df.values\n",
    "#linkage_data = linkage(df, method='ward', metric='euclidean')\n",
    "names = df.index.to_list()\n",
    "\n",
    "fig = ff.create_dendrogram(df, orientation='left', labels=names)\n",
    "fig.update_layout(\n",
    "    width=800, height=1300,\n",
    "    #margin=dict(b=100)\n",
    "    )\n",
    "\n",
    "#fig.update_xaxes(tickvals=df.index.to_list())\n",
    "fig.show()"
   ]
  },
  {
   "cell_type": "code",
   "execution_count": 160,
   "metadata": {},
   "outputs": [
    {
     "data": {
      "text/plain": [
       "['alliums',\n",
       " 'asparagus',\n",
       " 'beans, bush',\n",
       " 'beans, pole',\n",
       " 'beets',\n",
       " 'brassicas',\n",
       " 'broccoli',\n",
       " 'cabbage',\n",
       " 'carrots',\n",
       " 'cauliflower',\n",
       " 'celery',\n",
       " 'chard',\n",
       " 'corn',\n",
       " 'cucumber',\n",
       " 'cucurbits',\n",
       " 'eggplant or aubergine',\n",
       " 'kohlrabi',\n",
       " 'leek',\n",
       " 'legumes',\n",
       " 'lettuce',\n",
       " 'mustard',\n",
       " 'nightshades',\n",
       " 'okra',\n",
       " 'onion',\n",
       " 'parsnip',\n",
       " 'peas',\n",
       " 'peppers',\n",
       " 'potato',\n",
       " 'pumpkin',\n",
       " 'radish',\n",
       " 'spinach',\n",
       " 'squash',\n",
       " 'sweet potato',\n",
       " 'tomatoes',\n",
       " 'turnips and rutabagas',\n",
       " 'apple',\n",
       " 'apricot',\n",
       " 'blueberries',\n",
       " 'grapes',\n",
       " 'passion fruit',\n",
       " 'strawberries',\n",
       " 'basil',\n",
       " 'borage',\n",
       " 'caraway',\n",
       " 'catnip',\n",
       " 'chamomile',\n",
       " 'chervil',\n",
       " 'chives',\n",
       " 'cilantro / coriander',\n",
       " 'dill',\n",
       " 'fennel',\n",
       " 'flax',\n",
       " 'garlic',\n",
       " 'hyssop',\n",
       " 'lavender',\n",
       " 'lemon grass',\n",
       " 'lovage',\n",
       " 'oregano',\n",
       " 'parsley',\n",
       " 'peppermint',\n",
       " 'rosemary',\n",
       " 'sage',\n",
       " 'southernwood',\n",
       " 'spearmint',\n",
       " 'stinging nettle',\n",
       " 'summer savoury',\n",
       " 'tarragon',\n",
       " 'thyme',\n",
       " 'wormwood',\n",
       " 'yarrow',\n",
       " 'alyssum',\n",
       " 'bee balm',\n",
       " 'dianthus',\n",
       " 'geraniums',\n",
       " 'larkspur',\n",
       " 'lupin',\n",
       " 'marigold',\n",
       " 'nasturtium',\n",
       " 'pansy',\n",
       " 'petunia',\n",
       " 'phacelia',\n",
       " 'sunflower',\n",
       " 'swan plant',\n",
       " 'sweet pea',\n",
       " 'tansy',\n",
       " 'zinnia']"
      ]
     },
     "execution_count": 160,
     "metadata": {},
     "output_type": "execute_result"
    }
   ],
   "source": []
  },
  {
   "cell_type": "code",
   "execution_count": 147,
   "metadata": {},
   "outputs": [
    {
     "data": {
      "text/html": [
       "<div>\n",
       "<style scoped>\n",
       "    .dataframe tbody tr th:only-of-type {\n",
       "        vertical-align: middle;\n",
       "    }\n",
       "\n",
       "    .dataframe tbody tr th {\n",
       "        vertical-align: top;\n",
       "    }\n",
       "\n",
       "    .dataframe thead th {\n",
       "        text-align: right;\n",
       "    }\n",
       "</style>\n",
       "<table border=\"1\" class=\"dataframe\">\n",
       "  <thead>\n",
       "    <tr style=\"text-align: right;\">\n",
       "      <th>columns</th>\n",
       "      <th>fruit trees</th>\n",
       "      <th>nightshades</th>\n",
       "      <th>tomatoes</th>\n",
       "      <th>capsicum peppers</th>\n",
       "      <th>potatoes</th>\n",
       "      <th>brassicas</th>\n",
       "      <th>carrots</th>\n",
       "      <th>beans</th>\n",
       "      <th>peas</th>\n",
       "      <th>parsley</th>\n",
       "      <th>...</th>\n",
       "      <th>pumpkins</th>\n",
       "      <th>plants which are prone to aphids</th>\n",
       "      <th>especially lettuce</th>\n",
       "      <th>swan plant</th>\n",
       "      <th>plants that attracts aphids and spider mites</th>\n",
       "      <th>sweet alyssum</th>\n",
       "      <th>lobelia</th>\n",
       "      <th>catmint</th>\n",
       "      <th>aphids</th>\n",
       "      <th>raspberries and relatives</th>\n",
       "    </tr>\n",
       "  </thead>\n",
       "  <tbody>\n",
       "    <tr>\n",
       "      <th>alliums</th>\n",
       "      <td>1.0</td>\n",
       "      <td>1.0</td>\n",
       "      <td>1.0</td>\n",
       "      <td>1.0</td>\n",
       "      <td>1.0</td>\n",
       "      <td>1.0</td>\n",
       "      <td>1.0</td>\n",
       "      <td>-1.0</td>\n",
       "      <td>-1.0</td>\n",
       "      <td>0.0</td>\n",
       "      <td>...</td>\n",
       "      <td>0.0</td>\n",
       "      <td>0.0</td>\n",
       "      <td>0.0</td>\n",
       "      <td>0.0</td>\n",
       "      <td>0.0</td>\n",
       "      <td>0.0</td>\n",
       "      <td>0.0</td>\n",
       "      <td>0.0</td>\n",
       "      <td>0.0</td>\n",
       "      <td>0.0</td>\n",
       "    </tr>\n",
       "    <tr>\n",
       "      <th>asparagus</th>\n",
       "      <td>0.0</td>\n",
       "      <td>0.0</td>\n",
       "      <td>1.0</td>\n",
       "      <td>0.0</td>\n",
       "      <td>-1.0</td>\n",
       "      <td>0.0</td>\n",
       "      <td>0.0</td>\n",
       "      <td>0.0</td>\n",
       "      <td>0.0</td>\n",
       "      <td>1.0</td>\n",
       "      <td>...</td>\n",
       "      <td>0.0</td>\n",
       "      <td>0.0</td>\n",
       "      <td>0.0</td>\n",
       "      <td>0.0</td>\n",
       "      <td>0.0</td>\n",
       "      <td>0.0</td>\n",
       "      <td>0.0</td>\n",
       "      <td>0.0</td>\n",
       "      <td>0.0</td>\n",
       "      <td>0.0</td>\n",
       "    </tr>\n",
       "    <tr>\n",
       "      <th>beans, bush</th>\n",
       "      <td>0.0</td>\n",
       "      <td>0.0</td>\n",
       "      <td>0.0</td>\n",
       "      <td>0.0</td>\n",
       "      <td>0.0</td>\n",
       "      <td>0.0</td>\n",
       "      <td>0.0</td>\n",
       "      <td>0.0</td>\n",
       "      <td>0.0</td>\n",
       "      <td>0.0</td>\n",
       "      <td>...</td>\n",
       "      <td>0.0</td>\n",
       "      <td>0.0</td>\n",
       "      <td>0.0</td>\n",
       "      <td>0.0</td>\n",
       "      <td>0.0</td>\n",
       "      <td>0.0</td>\n",
       "      <td>0.0</td>\n",
       "      <td>0.0</td>\n",
       "      <td>0.0</td>\n",
       "      <td>0.0</td>\n",
       "    </tr>\n",
       "    <tr>\n",
       "      <th>beans, pole</th>\n",
       "      <td>0.0</td>\n",
       "      <td>0.0</td>\n",
       "      <td>0.0</td>\n",
       "      <td>0.0</td>\n",
       "      <td>0.0</td>\n",
       "      <td>-1.0</td>\n",
       "      <td>0.0</td>\n",
       "      <td>0.0</td>\n",
       "      <td>0.0</td>\n",
       "      <td>0.0</td>\n",
       "      <td>...</td>\n",
       "      <td>0.0</td>\n",
       "      <td>0.0</td>\n",
       "      <td>0.0</td>\n",
       "      <td>0.0</td>\n",
       "      <td>0.0</td>\n",
       "      <td>0.0</td>\n",
       "      <td>0.0</td>\n",
       "      <td>0.0</td>\n",
       "      <td>0.0</td>\n",
       "      <td>0.0</td>\n",
       "    </tr>\n",
       "    <tr>\n",
       "      <th>beets</th>\n",
       "      <td>0.0</td>\n",
       "      <td>0.0</td>\n",
       "      <td>0.0</td>\n",
       "      <td>0.0</td>\n",
       "      <td>0.0</td>\n",
       "      <td>1.0</td>\n",
       "      <td>0.0</td>\n",
       "      <td>0.0</td>\n",
       "      <td>0.0</td>\n",
       "      <td>0.0</td>\n",
       "      <td>...</td>\n",
       "      <td>0.0</td>\n",
       "      <td>0.0</td>\n",
       "      <td>0.0</td>\n",
       "      <td>0.0</td>\n",
       "      <td>0.0</td>\n",
       "      <td>0.0</td>\n",
       "      <td>0.0</td>\n",
       "      <td>0.0</td>\n",
       "      <td>0.0</td>\n",
       "      <td>0.0</td>\n",
       "    </tr>\n",
       "    <tr>\n",
       "      <th>...</th>\n",
       "      <td>...</td>\n",
       "      <td>...</td>\n",
       "      <td>...</td>\n",
       "      <td>...</td>\n",
       "      <td>...</td>\n",
       "      <td>...</td>\n",
       "      <td>...</td>\n",
       "      <td>...</td>\n",
       "      <td>...</td>\n",
       "      <td>...</td>\n",
       "      <td>...</td>\n",
       "      <td>...</td>\n",
       "      <td>...</td>\n",
       "      <td>...</td>\n",
       "      <td>...</td>\n",
       "      <td>...</td>\n",
       "      <td>...</td>\n",
       "      <td>...</td>\n",
       "      <td>...</td>\n",
       "      <td>...</td>\n",
       "      <td>...</td>\n",
       "    </tr>\n",
       "    <tr>\n",
       "      <th>sunflower</th>\n",
       "      <td>0.0</td>\n",
       "      <td>0.0</td>\n",
       "      <td>1.0</td>\n",
       "      <td>0.0</td>\n",
       "      <td>0.0</td>\n",
       "      <td>0.0</td>\n",
       "      <td>0.0</td>\n",
       "      <td>0.0</td>\n",
       "      <td>0.0</td>\n",
       "      <td>0.0</td>\n",
       "      <td>...</td>\n",
       "      <td>0.0</td>\n",
       "      <td>0.0</td>\n",
       "      <td>0.0</td>\n",
       "      <td>1.0</td>\n",
       "      <td>0.0</td>\n",
       "      <td>0.0</td>\n",
       "      <td>0.0</td>\n",
       "      <td>0.0</td>\n",
       "      <td>0.0</td>\n",
       "      <td>0.0</td>\n",
       "    </tr>\n",
       "    <tr>\n",
       "      <th>swan plant</th>\n",
       "      <td>0.0</td>\n",
       "      <td>0.0</td>\n",
       "      <td>0.0</td>\n",
       "      <td>0.0</td>\n",
       "      <td>0.0</td>\n",
       "      <td>0.0</td>\n",
       "      <td>0.0</td>\n",
       "      <td>0.0</td>\n",
       "      <td>0.0</td>\n",
       "      <td>0.0</td>\n",
       "      <td>...</td>\n",
       "      <td>0.0</td>\n",
       "      <td>0.0</td>\n",
       "      <td>0.0</td>\n",
       "      <td>0.0</td>\n",
       "      <td>-1.0</td>\n",
       "      <td>0.0</td>\n",
       "      <td>0.0</td>\n",
       "      <td>0.0</td>\n",
       "      <td>0.0</td>\n",
       "      <td>0.0</td>\n",
       "    </tr>\n",
       "    <tr>\n",
       "      <th>sweet pea</th>\n",
       "      <td>0.0</td>\n",
       "      <td>0.0</td>\n",
       "      <td>0.0</td>\n",
       "      <td>0.0</td>\n",
       "      <td>0.0</td>\n",
       "      <td>0.0</td>\n",
       "      <td>0.0</td>\n",
       "      <td>0.0</td>\n",
       "      <td>0.0</td>\n",
       "      <td>0.0</td>\n",
       "      <td>...</td>\n",
       "      <td>0.0</td>\n",
       "      <td>0.0</td>\n",
       "      <td>0.0</td>\n",
       "      <td>0.0</td>\n",
       "      <td>0.0</td>\n",
       "      <td>1.0</td>\n",
       "      <td>1.0</td>\n",
       "      <td>1.0</td>\n",
       "      <td>-1.0</td>\n",
       "      <td>0.0</td>\n",
       "    </tr>\n",
       "    <tr>\n",
       "      <th>tansy</th>\n",
       "      <td>1.0</td>\n",
       "      <td>0.0</td>\n",
       "      <td>0.0</td>\n",
       "      <td>0.0</td>\n",
       "      <td>0.0</td>\n",
       "      <td>1.0</td>\n",
       "      <td>0.0</td>\n",
       "      <td>1.0</td>\n",
       "      <td>0.0</td>\n",
       "      <td>0.0</td>\n",
       "      <td>...</td>\n",
       "      <td>0.0</td>\n",
       "      <td>0.0</td>\n",
       "      <td>0.0</td>\n",
       "      <td>0.0</td>\n",
       "      <td>0.0</td>\n",
       "      <td>0.0</td>\n",
       "      <td>0.0</td>\n",
       "      <td>0.0</td>\n",
       "      <td>0.0</td>\n",
       "      <td>1.0</td>\n",
       "    </tr>\n",
       "    <tr>\n",
       "      <th>zinnia</th>\n",
       "      <td>0.0</td>\n",
       "      <td>0.0</td>\n",
       "      <td>1.0</td>\n",
       "      <td>0.0</td>\n",
       "      <td>0.0</td>\n",
       "      <td>0.0</td>\n",
       "      <td>0.0</td>\n",
       "      <td>1.0</td>\n",
       "      <td>0.0</td>\n",
       "      <td>0.0</td>\n",
       "      <td>...</td>\n",
       "      <td>0.0</td>\n",
       "      <td>0.0</td>\n",
       "      <td>0.0</td>\n",
       "      <td>0.0</td>\n",
       "      <td>0.0</td>\n",
       "      <td>0.0</td>\n",
       "      <td>0.0</td>\n",
       "      <td>0.0</td>\n",
       "      <td>0.0</td>\n",
       "      <td>0.0</td>\n",
       "    </tr>\n",
       "  </tbody>\n",
       "</table>\n",
       "<p>86 rows × 160 columns</p>\n",
       "</div>"
      ],
      "text/plain": [
       "columns      fruit trees  nightshades  tomatoes  capsicum peppers  potatoes  \\\n",
       "alliums              1.0          1.0       1.0               1.0       1.0   \n",
       "asparagus            0.0          0.0       1.0               0.0      -1.0   \n",
       "beans, bush          0.0          0.0       0.0               0.0       0.0   \n",
       "beans, pole          0.0          0.0       0.0               0.0       0.0   \n",
       "beets                0.0          0.0       0.0               0.0       0.0   \n",
       "...                  ...          ...       ...               ...       ...   \n",
       "sunflower            0.0          0.0       1.0               0.0       0.0   \n",
       "swan plant           0.0          0.0       0.0               0.0       0.0   \n",
       "sweet pea            0.0          0.0       0.0               0.0       0.0   \n",
       "tansy                1.0          0.0       0.0               0.0       0.0   \n",
       "zinnia               0.0          0.0       1.0               0.0       0.0   \n",
       "\n",
       "columns      brassicas  carrots  beans  peas  parsley  ...  pumpkins  \\\n",
       "alliums            1.0      1.0   -1.0  -1.0      0.0  ...       0.0   \n",
       "asparagus          0.0      0.0    0.0   0.0      1.0  ...       0.0   \n",
       "beans, bush        0.0      0.0    0.0   0.0      0.0  ...       0.0   \n",
       "beans, pole       -1.0      0.0    0.0   0.0      0.0  ...       0.0   \n",
       "beets              1.0      0.0    0.0   0.0      0.0  ...       0.0   \n",
       "...                ...      ...    ...   ...      ...  ...       ...   \n",
       "sunflower          0.0      0.0    0.0   0.0      0.0  ...       0.0   \n",
       "swan plant         0.0      0.0    0.0   0.0      0.0  ...       0.0   \n",
       "sweet pea          0.0      0.0    0.0   0.0      0.0  ...       0.0   \n",
       "tansy              1.0      0.0    1.0   0.0      0.0  ...       0.0   \n",
       "zinnia             0.0      0.0    1.0   0.0      0.0  ...       0.0   \n",
       "\n",
       "columns      plants which are prone to aphids  especially lettuce  swan plant  \\\n",
       "alliums                                   0.0                 0.0         0.0   \n",
       "asparagus                                 0.0                 0.0         0.0   \n",
       "beans, bush                               0.0                 0.0         0.0   \n",
       "beans, pole                               0.0                 0.0         0.0   \n",
       "beets                                     0.0                 0.0         0.0   \n",
       "...                                       ...                 ...         ...   \n",
       "sunflower                                 0.0                 0.0         1.0   \n",
       "swan plant                                0.0                 0.0         0.0   \n",
       "sweet pea                                 0.0                 0.0         0.0   \n",
       "tansy                                     0.0                 0.0         0.0   \n",
       "zinnia                                    0.0                 0.0         0.0   \n",
       "\n",
       "columns      plants that attracts aphids and spider mites  sweet alyssum  \\\n",
       "alliums                                               0.0            0.0   \n",
       "asparagus                                             0.0            0.0   \n",
       "beans, bush                                           0.0            0.0   \n",
       "beans, pole                                           0.0            0.0   \n",
       "beets                                                 0.0            0.0   \n",
       "...                                                   ...            ...   \n",
       "sunflower                                             0.0            0.0   \n",
       "swan plant                                           -1.0            0.0   \n",
       "sweet pea                                             0.0            1.0   \n",
       "tansy                                                 0.0            0.0   \n",
       "zinnia                                                0.0            0.0   \n",
       "\n",
       "columns      lobelia  catmint  aphids  raspberries and relatives  \n",
       "alliums          0.0      0.0     0.0                        0.0  \n",
       "asparagus        0.0      0.0     0.0                        0.0  \n",
       "beans, bush      0.0      0.0     0.0                        0.0  \n",
       "beans, pole      0.0      0.0     0.0                        0.0  \n",
       "beets            0.0      0.0     0.0                        0.0  \n",
       "...              ...      ...     ...                        ...  \n",
       "sunflower        0.0      0.0     0.0                        0.0  \n",
       "swan plant       0.0      0.0     0.0                        0.0  \n",
       "sweet pea        1.0      1.0    -1.0                        0.0  \n",
       "tansy            0.0      0.0     0.0                        1.0  \n",
       "zinnia           0.0      0.0     0.0                        0.0  \n",
       "\n",
       "[86 rows x 160 columns]"
      ]
     },
     "execution_count": 147,
     "metadata": {},
     "output_type": "execute_result"
    }
   ],
   "source": [
    "df"
   ]
  },
  {
   "cell_type": "code",
   "execution_count": null,
   "metadata": {},
   "outputs": [],
   "source": []
  }
 ],
 "metadata": {
  "kernelspec": {
   "display_name": "Python 3.9.13 ('venv': venv)",
   "language": "python",
   "name": "python3"
  },
  "language_info": {
   "codemirror_mode": {
    "name": "ipython",
    "version": 3
   },
   "file_extension": ".py",
   "mimetype": "text/x-python",
   "name": "python",
   "nbconvert_exporter": "python",
   "pygments_lexer": "ipython3",
   "version": "3.9.13"
  },
  "orig_nbformat": 4,
  "vscode": {
   "interpreter": {
    "hash": "234ac95f593b79f51004a26e7a502d411d9557ffaaa0ae006ceb71275381cd88"
   }
  }
 },
 "nbformat": 4,
 "nbformat_minor": 2
}
