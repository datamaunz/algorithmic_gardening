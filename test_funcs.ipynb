{
 "cells": [
  {
   "cell_type": "code",
   "execution_count": 6,
   "id": "3e84f3fe",
   "metadata": {},
   "outputs": [],
   "source": [
    "from src.plant_distribution_functions import buckets_generator as bucket_generator\n",
    "import pandas as pd"
   ]
  },
  {
   "cell_type": "code",
   "execution_count": 2,
   "id": "91c1e2fe",
   "metadata": {},
   "outputs": [],
   "source": [
    "df = pd.read_csv(\"data/outputs/09162022_192558.csv\")\n",
    "df = df.set_index(\"Unnamed: 0\")"
   ]
  },
  {
   "cell_type": "code",
   "execution_count": 3,
   "id": "b8c1af6e",
   "metadata": {
    "scrolled": true
   },
   "outputs": [],
   "source": [
    "bucket_dict = bucket_generator(df)"
   ]
  },
  {
   "cell_type": "code",
   "execution_count": 4,
   "id": "deb7a717",
   "metadata": {},
   "outputs": [
    {
     "name": "stdout",
     "output_type": "stream",
     "text": [
      "{'bucket_1': ['alliums', 'brassicas', 'beets', 'broccoli', 'lettuce', 'carrots', 'passion fruit', 'kohlrabi', 'onion', 'corn'], 'bucket_2': ['asparagus', 'parsley', 'corn', 'cucurbits'], 'bucket_3': ['basil', 'asparagus', 'parsley', 'corn', 'cucurbits', 'grapes', 'oregano', 'peppers', 'okra', 'sweet potato', 'pumpkin'], 'bucket_4': ['beets', 'brassicas', 'corn', 'cucurbits', 'broccoli', 'lettuce', 'carrots', 'alliums', 'okra', 'sweet potato', 'kohlrabi', 'onion'], 'bucket_5': ['brassicas', 'beets', 'broccoli', 'lettuce', 'carrots', 'alliums', 'passion fruit', 'kohlrabi', 'onion', 'corn'], 'bucket_6': ['broccoli', 'lettuce', 'beets', 'brassicas', 'corn', 'cucurbits', 'kohlrabi', 'onion', 'carrots', 'alliums', 'okra', 'sweet potato'], 'bucket_7': ['cabbage', 'celery', 'brassicas', 'beets', 'broccoli', 'kohlrabi', 'onion', 'carrots', 'alliums', 'passion fruit', 'cucumber'], 'bucket_8': ['carrots', 'alliums', 'brassicas', 'beets', 'broccoli', 'lettuce', 'okra', 'sweet potato', 'kohlrabi', 'onion', 'corn', 'cucurbits'], 'bucket_9': ['cauliflower', 'celery', 'brassicas', 'beets', 'broccoli', 'cabbage', 'kohlrabi', 'onion', 'carrots', 'alliums', 'passion fruit', 'cucumber', 'spinach'], 'bucket_10': ['celery', 'brassicas', 'beets', 'broccoli', 'cabbage', 'kohlrabi', 'onion', 'carrots', 'alliums', 'passion fruit', 'cucumber'], 'bucket_11': ['chamomile', 'brassicas', 'beets', 'broccoli', 'lettuce', 'carrots', 'alliums', 'passion fruit', 'kohlrabi', 'onion', 'corn', 'cucumber'], 'bucket_12': ['corn', 'cucurbits'], 'bucket_13': ['cucumber', 'kohlrabi', 'beets', 'brassicas', 'corn', 'cucurbits', 'broccoli', 'lettuce', 'carrots', 'alliums', 'okra', 'sweet potato', 'onion'], 'bucket_14': ['cucurbits', 'corn'], 'bucket_15': ['dill', 'brassicas', 'beets', 'broccoli', 'lettuce', 'okra', 'sweet potato', 'radish', 'cucumber', 'kohlrabi', 'onion', 'corn', 'cucurbits', 'fennel'], 'bucket_16': ['fennel', 'dill', 'brassicas', 'beets', 'broccoli', 'lettuce', 'okra', 'sweet potato', 'radish', 'cucumber', 'kohlrabi', 'onion', 'corn', 'cucurbits'], 'bucket_17': ['garlic', 'beets', 'brassicas', 'corn', 'cucurbits', 'broccoli', 'lettuce', 'carrots', 'alliums', 'okra', 'sweet potato', 'kohlrabi', 'onion'], 'bucket_18': ['grapes'], 'bucket_19': ['kohlrabi', 'beets', 'brassicas', 'corn', 'cucurbits', 'broccoli', 'lettuce', 'carrots', 'alliums', 'okra', 'sweet potato', 'onion'], 'bucket_20': ['lavender', 'basil', 'asparagus', 'parsley', 'corn', 'cucurbits', 'grapes', 'oregano', 'peppers', 'okra', 'sweet potato', 'pumpkin', 'chamomile', 'cucumber', 'kohlrabi', 'beets', 'broccoli', 'rosemary', 'carrots', 'sage', 'squash'], 'bucket_21': ['lettuce', 'beets', 'brassicas', 'corn', 'cucurbits', 'broccoli', 'kohlrabi', 'onion', 'carrots', 'alliums', 'okra', 'sweet potato'], 'bucket_22': ['mustard', 'broccoli', 'lettuce', 'beets', 'brassicas', 'corn', 'cucurbits', 'kohlrabi', 'onion', 'carrots', 'alliums', 'okra', 'sweet potato', 'cauliflower', 'spinach', 'grapes'], 'bucket_23': ['nightshades'], 'bucket_24': ['okra', 'peppers', 'sweet potato', 'tomatoes', 'asparagus', 'parsley', 'celery', 'cucumber', 'kohlrabi', 'beets', 'broccoli'], 'bucket_25': ['onion', 'beets', 'brassicas', 'corn', 'cucurbits', 'broccoli', 'lettuce', 'carrots', 'alliums', 'okra', 'sweet potato', 'kohlrabi'], 'bucket_26': ['oregano', 'grapes', 'peppers', 'okra', 'sweet potato', 'tomatoes', 'asparagus', 'parsley', 'celery', 'cucumber', 'kohlrabi', 'beets', 'broccoli', 'pumpkin'], 'bucket_27': ['parsley', 'asparagus', 'tomatoes', 'celery', 'cucumber', 'kohlrabi', 'beets', 'broccoli', 'cabbage', 'passion fruit'], 'bucket_28': ['parsnip'], 'bucket_29': ['passion fruit'], 'bucket_30': ['peas', 'brassicas', 'beets', 'broccoli', 'lettuce', 'carrots', 'passion fruit', 'kohlrabi', 'corn', 'cauliflower', 'spinach', 'garlic'], 'bucket_31': ['peppers', 'okra', 'sweet potato', 'tomatoes', 'asparagus', 'parsley', 'celery', 'cucumber', 'kohlrabi', 'beets', 'broccoli'], 'bucket_32': ['potato', 'brassicas', 'beets', 'broccoli', 'lettuce', 'carrots', 'alliums', 'passion fruit', 'kohlrabi', 'onion', 'corn'], 'bucket_33': ['pumpkin', 'corn', 'cucurbits'], 'bucket_34': ['radish', 'cucumber', 'kohlrabi', 'beets', 'brassicas', 'corn', 'cucurbits', 'broccoli', 'lettuce', 'okra', 'sweet potato', 'onion'], 'bucket_35': ['rosemary', 'brassicas', 'beets', 'broccoli', 'lettuce', 'carrots', 'alliums', 'passion fruit', 'kohlrabi', 'onion', 'corn', 'thyme', 'potato'], 'bucket_36': ['sage', 'brassicas', 'beets', 'broccoli', 'lettuce', 'carrots', 'alliums', 'passion fruit', 'kohlrabi', 'onion', 'corn', 'rosemary', 'thyme', 'potato'], 'bucket_37': ['spinach', 'brassicas', 'beets', 'broccoli', 'lettuce', 'carrots', 'alliums', 'passion fruit', 'kohlrabi', 'onion', 'corn', 'cauliflower'], 'bucket_38': ['squash', 'corn', 'cucurbits', 'okra', 'peppers', 'sweet potato'], 'bucket_39': ['strawberries', 'lettuce', 'beets', 'broccoli', 'kohlrabi', 'onion', 'carrots', 'alliums', 'nightshades', 'passion fruit', 'spinach', 'cauliflower'], 'bucket_40': ['sunflower', 'corn', 'cucurbits', 'cucumber', 'kohlrabi', 'beets', 'brassicas', 'broccoli', 'lettuce', 'carrots', 'alliums', 'okra', 'sweet potato', 'onion', 'swan plant'], 'bucket_41': ['swan plant', 'sunflower', 'corn', 'cucurbits', 'cucumber', 'kohlrabi', 'beets', 'brassicas', 'broccoli', 'lettuce', 'carrots', 'alliums', 'okra', 'sweet potato', 'onion'], 'bucket_42': ['sweet potato', 'okra', 'peppers', 'tomatoes', 'asparagus', 'parsley', 'celery', 'cucumber', 'kohlrabi', 'beets', 'broccoli'], 'bucket_43': ['thyme', 'brassicas', 'beets', 'broccoli', 'lettuce', 'carrots', 'alliums', 'passion fruit', 'kohlrabi', 'onion', 'corn', 'potato'], 'bucket_44': ['tomatoes', 'asparagus', 'parsley', 'celery', 'cucumber', 'kohlrabi', 'beets', 'broccoli', 'cabbage', 'passion fruit']}\n"
     ]
    }
   ],
   "source": [
    "print(bucket_dict)"
   ]
  },
  {
   "cell_type": "code",
   "execution_count": null,
   "id": "9ebca547",
   "metadata": {},
   "outputs": [],
   "source": []
  }
 ],
 "metadata": {
  "kernelspec": {
   "display_name": "Python 3.9.13 ('venv': venv)",
   "language": "python",
   "name": "python3"
  },
  "language_info": {
   "codemirror_mode": {
    "name": "ipython",
    "version": 3
   },
   "file_extension": ".py",
   "mimetype": "text/x-python",
   "name": "python",
   "nbconvert_exporter": "python",
   "pygments_lexer": "ipython3",
   "version": "3.9.13"
  },
  "vscode": {
   "interpreter": {
    "hash": "19315d11c038fdbbae8990f4de966577ffc761b644c832479719c9aaabd0ddfa"
   }
  }
 },
 "nbformat": 4,
 "nbformat_minor": 5
}
